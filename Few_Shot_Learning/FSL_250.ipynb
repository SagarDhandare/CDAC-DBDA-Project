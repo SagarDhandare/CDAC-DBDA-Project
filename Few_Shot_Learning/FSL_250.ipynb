{
 "cells": [
  {
   "cell_type": "markdown",
   "id": "a274b36f",
   "metadata": {
    "id": "a274b36f"
   },
   "source": [
    "# Automatic Optimal N-Shot learning for Brain Tumor Detection. (Using Few Shot Learning)\n",
    "**Description:**\n",
    "\n",
    "A Brain tumor is considered as one of the aggressive diseases, among children and adults. Proper treatment, planning, and accurate diagnostics should be implemented to improve the life expectancy of the patients. The best technique to detect brain tumors is Magnetic Resonance Imaging (MRI). A huge amount of image data is generated through the scans. These images are examined by the radiologist. A manual examination can be error-prone due to the level of complexities involved in brain tumors and their properties. \n",
    "\n",
    "Despite deep convolutional neural networks achieved impressive progress in medical image computing and analysis, its paradigm of supervised learning demands a large number of training images and complex hyperparameter optimization processes. In clinical practices, collection of huge number of MRIs is difficult to acquire. We developed a deep learning pipeline with few-shot learning with automatic hyperparameter optimization for brain tumor detection."
   ]
  },
  {
   "cell_type": "code",
   "execution_count": 1,
   "id": "20537d95-7df6-45d1-97b8-4fe849edb009",
   "metadata": {},
   "outputs": [],
   "source": [
    "# pip install tensorflow"
   ]
  },
  {
   "cell_type": "code",
   "execution_count": 2,
   "id": "03be8982-7cbd-4c29-997f-44c4ba648749",
   "metadata": {
    "colab": {
     "base_uri": "https://localhost:8080/"
    },
    "id": "03be8982-7cbd-4c29-997f-44c4ba648749",
    "outputId": "28eac49c-0a11-41a6-a622-ca533cca4f4f"
   },
   "outputs": [],
   "source": [
    "# pip install --upgrade tensorflow-hub"
   ]
  },
  {
   "cell_type": "code",
   "execution_count": 3,
   "id": "d5904b11-03e4-4380-b67c-81ed99a79eff",
   "metadata": {
    "colab": {
     "base_uri": "https://localhost:8080/"
    },
    "id": "d5904b11-03e4-4380-b67c-81ed99a79eff",
    "outputId": "fdb1527a-7008-4c6c-8d6c-a4a3739ac7fe"
   },
   "outputs": [],
   "source": [
    "# pip install pyDOE"
   ]
  },
  {
   "cell_type": "code",
   "execution_count": 4,
   "id": "b352d4a5-e038-4cd3-a2ad-f185c4dfb5b8",
   "metadata": {},
   "outputs": [],
   "source": [
    "# pip install tabulate"
   ]
  },
  {
   "cell_type": "code",
   "execution_count": 5,
   "id": "542b62b5-3bc4-474e-b1f2-3cb5af09cf37",
   "metadata": {},
   "outputs": [],
   "source": [
    "# pip install tqdm"
   ]
  },
  {
   "cell_type": "code",
   "execution_count": 7,
   "id": "572a991d-ca6a-4ba7-a4e7-571b85d95aba",
   "metadata": {
    "id": "572a991d-ca6a-4ba7-a4e7-571b85d95aba"
   },
   "outputs": [],
   "source": [
    "# Importing required Libraries:\n",
    "import os\n",
    "import random\n",
    "import math\n",
    "import numpy as np\n",
    "import tensorflow as tf\n",
    "import matplotlib.pyplot as plt\n",
    "from tensorflow.keras.preprocessing.image import load_img, img_to_array\n",
    "import tensorflow.keras.layers as L\n",
    "from tensorflow.keras.utils import to_categorical\n",
    "from tensorflow.keras.regularizers import l2\n",
    "from tensorflow.keras.optimizers import Adam\n",
    "from tensorflow.keras.optimizers.schedules import ExponentialDecay\n",
    "import tensorflow_hub as hub\n",
    "from sklearn.model_selection import train_test_split, RepeatedStratifiedKFold\n",
    "from sklearn.utils import shuffle\n",
    "from sklearn.metrics import accuracy_score, confusion_matrix, classification_report, precision_score, recall_score, f1_score\n",
    "from tqdm import tqdm\n",
    "from tabulate import tabulate\n",
    "from pyDOE import lhs"
   ]
  },
  {
   "cell_type": "code",
   "execution_count": 8,
   "id": "baf99a8c-71bf-48c4-b933-f90195a74575",
   "metadata": {
    "id": "baf99a8c-71bf-48c4-b933-f90195a74575"
   },
   "outputs": [],
   "source": [
    "# Creating a Class to load a dataset:\n",
    "class Dataset:\n",
    "    def __init__(self, data_root: str, *, test_size: float, img_size: int, seed: int = 0) -> None:\n",
    "        self.label2index = {}\n",
    "        self.index2label = {}\n",
    "        \n",
    "        # Discover the class label names.\n",
    "        class_labels = os.listdir(data_root)\n",
    "        self.nclasses = len(class_labels)\n",
    "        X, y = [], []\n",
    "        \n",
    "        for label_index, label in enumerate(class_labels):\n",
    "            # Load the images for this class label.\n",
    "            self.label2index[label_index] = label\n",
    "            self.index2label[label] = label_index\n",
    "            \n",
    "            img_names = os.listdir(os.path.join(data_root, label))\n",
    "            for img_name in img_names:\n",
    "                img_path = os.path.join(data_root, label, img_name)\n",
    "                img = load_img(img_path, target_size = (img_size, img_size, 3))\n",
    "                X.append(img_to_array(img))\n",
    "                y.append(label_index)\n",
    "        \n",
    "        X = np.array(X)\n",
    "        y = np.array(y)\n",
    "        one_hot_y = to_categorical(y, num_classes=self.nclasses)\n",
    "        \n",
    "        # Make a stratified split.\n",
    "        self.X, self.X_test, self.labels, self.labels_test, self.y, self.y_test = train_test_split(X, y, \n",
    "                                                                                                   one_hot_y, \n",
    "                                                                                                   test_size = test_size, \n",
    "                                                                                                   random_state = seed, \n",
    "                                                                                                   stratify = y)     "
   ]
  },
  {
   "cell_type": "code",
   "execution_count": 9,
   "id": "3cfcbe69",
   "metadata": {
    "colab": {
     "base_uri": "https://localhost:8080/"
    },
    "id": "3cfcbe69",
    "outputId": "d88de5dc-c795-4806-cd7b-29bd895b13a0"
   },
   "outputs": [
    {
     "name": "stdout",
     "output_type": "stream",
     "text": [
      "(200, 256, 256, 3) (200, 2)\n"
     ]
    }
   ],
   "source": [
    "# Creating an Object to load the dataset:\n",
    "data = Dataset(\"BT_Data_250/\", test_size=0.2, img_size=256)\n",
    "print(data.X.shape, data.y.shape)"
   ]
  },
  {
   "cell_type": "markdown",
   "id": "891ed4a8-a362-4204-8076-fcbe86ed98e1",
   "metadata": {
    "id": "eR4ksyFkp-2R"
   },
   "source": [
    "**This module implements the R101x1 architecture, trained to perform multi-label classification on ImageNet-21k, a dataset with 14 milion images labeled with 21,843 classes. Its outputs are the 2048-dimensional feature vectors, before the multi-label classification head. This model can be used as a feature extractor or for fine-tuning on a new target task.**"
   ]
  },
  {
   "cell_type": "code",
   "execution_count": 8,
   "id": "ce6ab57e-4f76-48a6-8b9f-28eecfd286d1",
   "metadata": {
    "colab": {
     "base_uri": "https://localhost:8080/"
    },
    "id": "ce6ab57e-4f76-48a6-8b9f-28eecfd286d1",
    "outputId": "080113d1-b416-46fb-eddf-933d82638d11"
   },
   "outputs": [
    {
     "name": "stdout",
     "output_type": "stream",
     "text": [
      "(200, 2048) (51, 2048)\n"
     ]
    }
   ],
   "source": [
    "# Using Pretrained Image Embeddings:\n",
    "embed = hub.KerasLayer(\"https://tfhub.dev/google/bit/m-r101x1/1\", trainable=False)\n",
    "X_embedding = embed(data.X)\n",
    "X_test_embedding = embed(data.X_test)\n",
    "print(X_embedding.shape, X_test_embedding.shape)"
   ]
  },
  {
   "cell_type": "code",
   "execution_count": 9,
   "id": "ac4bab32-a41d-43d1-94ed-b2ce6a84049b",
   "metadata": {
    "id": "ac4bab32-a41d-43d1-94ed-b2ce6a84049b"
   },
   "outputs": [],
   "source": [
    "# Function for Model Building:\n",
    "def make_model(\n",
    "    nclasses: int, *, dropout_rate: float, nhiddenunits: int, l2_regularization: float) -> tf.keras.Model:\n",
    "    model = tf.keras.Sequential()\n",
    "    \n",
    "    # One fully connected hidden layer\n",
    "    model.add(L.Dense(nhiddenunits, activation=\"relu\", kernel_regularizer=l2(l2_regularization)))\n",
    "    model.add(L.Dropout(dropout_rate))\n",
    "    \n",
    "    # Output layer\n",
    "    model.add(L.Dense(nclasses, activation=\"softmax\", kernel_regularizer=l2(l2_regularization)))\n",
    "    return model"
   ]
  },
  {
   "cell_type": "code",
   "execution_count": 10,
   "id": "bec3e368-94ad-4a06-bdc3-47da9d02a5b8",
   "metadata": {
    "id": "bec3e368-94ad-4a06-bdc3-47da9d02a5b8"
   },
   "outputs": [],
   "source": [
    "# Function for Evaluating the Model:\n",
    "def evaluate_model(\n",
    "    nclasses, X, y, X_dev, y_dev, *,\n",
    "    epochs: int, batch_size: int, learning_rate: float,\n",
    "    model_maker = make_model, **model_params) -> tuple:\n",
    "    \n",
    "    # Math to compute the learning rate schedule. We will divide our learning rate by a factor of 10 every 30% of the optimizer's total steps.\n",
    "    steps_per_epoch = math.ceil(len(X) / batch_size)\n",
    "    third_of_total_steps = math.floor(epochs * steps_per_epoch / 3)\n",
    "    \n",
    "    # Make and compile the model.\n",
    "    model = model_maker(nclasses, **model_params)\n",
    "    model.compile(optimizer = Adam(learning_rate = ExponentialDecay(\n",
    "                                                                    learning_rate,\n",
    "                                                                    decay_steps = third_of_total_steps,\n",
    "                                                                    decay_rate = 0.1,\n",
    "                                                                    staircase = True\n",
    "                                                                    )\n",
    "                                   ),\n",
    "                  loss = \"categorical_crossentropy\",\n",
    "                  metrics = [\"accuracy\"]\n",
    "                 )\n",
    "    \n",
    "    # Train the model on the training set and evaluate it on the dev set.\n",
    "    model.fit(X, y, batch_size = batch_size, epochs = epochs, verbose = 0)\n",
    "    \n",
    "    _, train_acc = model.evaluate(X, y, batch_size = batch_size, verbose = 0)\n",
    "    _, dev_acc = model.evaluate(X_dev, y_dev, batch_size = batch_size, verbose = 0)\n",
    "    \n",
    "    return model, train_acc, dev_acc"
   ]
  },
  {
   "cell_type": "code",
   "execution_count": 11,
   "id": "63c21b59-899c-4686-8833-572e09733997",
   "metadata": {
    "id": "63c21b59-899c-4686-8833-572e09733997"
   },
   "outputs": [],
   "source": [
    "# Cross-Validating the evaluated model:\n",
    "def cv_evaluate_model(\n",
    "    X, y, labels, *, nfolds: int, nrepeats: int, epochs: int, batch_size: int,\n",
    "    learning_rate: float, model_maker, verbose: bool = True, seed: int = 0,\n",
    "    **model_params) -> dict:\n",
    "\n",
    "    # Performs `nfolds` cross-validated training and evaluation of a model hyperparameter configuration,\n",
    "    # Returns a dictionary of statistics about the outcome of the cross-validated experiment.\n",
    "    \n",
    "    _, nclasses = y.shape\n",
    "    train_accs, dev_accs = [], []\n",
    "    \n",
    "    # Train and evaluate the model for each fold.\n",
    "    for train_index, dev_index in tqdm(\n",
    "        RepeatedStratifiedKFold(\n",
    "                                n_splits = nfolds, \n",
    "                                n_repeats = nrepeats, \n",
    "                                random_state = seed).split(X, labels),\n",
    "        total = nfolds*nrepeats, disable = not verbose):\n",
    "        \n",
    "        # Select the data for this fold.\n",
    "        X_train_fold = tf.gather(X, train_index) \n",
    "        y_train_fold = tf.gather(y, train_index)\n",
    "        X_dev_fold = tf.gather(X, dev_index)\n",
    "        y_dev_fold = tf.gather(y, dev_index)\n",
    "        \n",
    "        # Train and evaluate the model.\n",
    "        _, train_acc, dev_acc = evaluate_model(\n",
    "                                               nclasses,\n",
    "                                               X_train_fold,\n",
    "                                               y_train_fold,\n",
    "                                               X_dev_fold,\n",
    "                                               y_dev_fold,\n",
    "                                               epochs = epochs,\n",
    "                                               batch_size = batch_size,\n",
    "                                               learning_rate = learning_rate,\n",
    "                                               model_maker = model_maker,\n",
    "                                               **model_params\n",
    "                                               )\n",
    "        \n",
    "        train_accs.append(train_acc)\n",
    "        dev_accs.append(dev_acc)\n",
    "    \n",
    "    # Aggregate.\n",
    "    results = {\n",
    "               \"train_mean\": np.mean(train_accs),\n",
    "               \"train_std\": np.std(train_accs),\n",
    "               \"dev_mean\": np.mean(dev_accs),\n",
    "               \"dev_std\": np.std(dev_accs)\n",
    "              }\n",
    "    \n",
    "    # Report.\n",
    "    if verbose:\n",
    "        print(\n",
    "            tabulate(\n",
    "                [\n",
    "                    [\"Train\", results[\"train_mean\"], results[\"train_std\"]],\n",
    "                    [\"Dev\", results[\"dev_mean\"], results[\"dev_std\"]]\n",
    "                ],\n",
    "                headers = [\"Set\", \"Mean\", \"Std. Dev.\"]))\n",
    "    \n",
    "    return results"
   ]
  },
  {
   "cell_type": "code",
   "execution_count": 12,
   "id": "8735ad5b-7fc0-4188-8048-1d433a436fb8",
   "metadata": {
    "colab": {
     "base_uri": "https://localhost:8080/"
    },
    "id": "8735ad5b-7fc0-4188-8048-1d433a436fb8",
    "outputId": "6010959e-b409-4bc2-e3bd-7c0e98844eb5"
   },
   "outputs": [
    {
     "name": "stderr",
     "output_type": "stream",
     "text": [
      "100%|██████████| 15/15 [00:15<00:00,  1.03s/it]"
     ]
    },
    {
     "name": "stdout",
     "output_type": "stream",
     "text": [
      "Set        Mean    Std. Dev.\n",
      "-----  --------  -----------\n",
      "Train  0.91125     0.0835165\n",
      "Dev    0.846667    0.0712195\n"
     ]
    },
    {
     "name": "stderr",
     "output_type": "stream",
     "text": [
      "\n"
     ]
    }
   ],
   "source": [
    "# We'll refer to these values throughout the notebook.\n",
    "default_cv_evaluate_params = {\n",
    "                              \"X\": X_embedding,\n",
    "                              \"y\": data.y,\n",
    "                              \"labels\": data.labels,\n",
    "                              \"nfolds\": 5,\n",
    "                              \"nrepeats\": 3,\n",
    "                              \"model_maker\": make_model,\n",
    "                              \"epochs\": 100,\n",
    "                              \"batch_size\": 5,\n",
    "                              \"verbose\": False,\n",
    "                              \"learning_rate\": 3e-3,\n",
    "                              \"dropout_rate\": 0.3,\n",
    "                              \"nhiddenunits\": 64,\n",
    "                              \"l2_regularization\": 1e-6\n",
    "                              }\n",
    "\n",
    "_ = cv_evaluate_model(**{**default_cv_evaluate_params, \"verbose\": True})"
   ]
  },
  {
   "cell_type": "code",
   "execution_count": 13,
   "id": "d17e2eaa-82ae-49ed-9bab-0215c4e0326c",
   "metadata": {},
   "outputs": [],
   "source": [
    "# Selecting the number of samples for Few Shot Learning:\n",
    "nsamples = 10"
   ]
  },
  {
   "cell_type": "code",
   "execution_count": 14,
   "id": "677395b7-ab70-4025-9ece-c7a0b876bb92",
   "metadata": {},
   "outputs": [],
   "source": [
    "# `lhs` will yield a `nsamples`x2 matrix, with all values following the uniform distribution in [0,1]\n",
    "np.random.seed()\n",
    "x = lhs(n=2, samples=nsamples)"
   ]
  },
  {
   "cell_type": "code",
   "execution_count": 15,
   "id": "0018a2b5-c3af-4ff3-af92-6e1b8ea8a87e",
   "metadata": {},
   "outputs": [],
   "source": [
    "# Scale dropout samples to be in [0,0.6]\n",
    "dropout_rates = (x[:, 0]*.6)"
   ]
  },
  {
   "cell_type": "code",
   "execution_count": 16,
   "id": "7322fffb-b516-4a3b-8e1a-9f631bc4f395",
   "metadata": {},
   "outputs": [],
   "source": [
    "# Scale l2 samples to be in [-8, -1]\n",
    "l2_rates = (x[:, 1]*-7 - 1)"
   ]
  },
  {
   "cell_type": "code",
   "execution_count": 17,
   "id": "e597afdb-3db5-4f8e-acbf-0ebca3c8a2c1",
   "metadata": {},
   "outputs": [],
   "source": [
    "# Now scale l2 samples to follow the log scale in the range [10**-8,10**-1]\n",
    "l2_rates = 10**l2_rates"
   ]
  },
  {
   "cell_type": "code",
   "execution_count": 18,
   "id": "2901fe2f-875c-4d4d-9d47-be2bc6447d5d",
   "metadata": {
    "colab": {
     "base_uri": "https://localhost:8080/"
    },
    "id": "2901fe2f-875c-4d4d-9d47-be2bc6447d5d",
    "outputId": "b9601500-c718-4eb2-bd08-694644baaeb6"
   },
   "outputs": [
    {
     "name": "stderr",
     "output_type": "stream",
     "text": [
      "100%|██████████| 20/20 [05:57<00:00, 17.89s/it]\n"
     ]
    }
   ],
   "source": [
    "# cross validating our model on each hyperparameter sample, storing the dev set performance statistics for each run:\n",
    "dev_means = np.zeros((nsamples, 1))\n",
    "dev_stds = np.zeros((nsamples, 1))\n",
    "\n",
    "for i in tqdm(range(nsamples)):\n",
    "    results = cv_evaluate_model(**{**default_cv_evaluate_params,\n",
    "                                   \"dropout_rate\": dropout_rates[i],\n",
    "                                   \"l2_regularization\": l2_rates[i]}\n",
    "                               )\n",
    "    \n",
    "    dev_means[i] = results[\"dev_mean\"]\n",
    "    dev_stds[i] = results[\"dev_std\"]"
   ]
  },
  {
   "cell_type": "code",
   "execution_count": 19,
   "id": "3fe05659-902e-4009-b536-ad88731b417e",
   "metadata": {
    "colab": {
     "base_uri": "https://localhost:8080/",
     "height": 315
    },
    "id": "3fe05659-902e-4009-b536-ad88731b417e",
    "outputId": "b9efa86c-f91b-45f2-e0cb-ff6c96420ba4"
   },
   "outputs": [
    {
     "name": "stdout",
     "output_type": "stream",
     "text": [
      "Best l2_rate:\t1.622216422224576e-07\n",
      "Best dropout:\t0.09892718984038103\n"
     ]
    },
    {
     "data": {
      "image/png": "[encoded data removed]",
      "text/plain": [
       "<Figure size 432x288 with 2 Axes>"
      ]
     },
     "metadata": {
      "needs_background": "light"
     },
     "output_type": "display_data"
    }
   ],
   "source": [
    "# Visualizing the results over the hyperparameter space:\n",
    "best_i = np.argmax(dev_means)\n",
    "best_l2 = l2_rates[best_i]\n",
    "print(f\"Best l2_rate:\\t{best_l2}\")\n",
    "\n",
    "best_dropout = dropout_rates[best_i]\n",
    "print(f\"Best dropout:\\t{best_dropout}\")\n",
    "\n",
    "plt.scatter(dropout_rates, l2_rates, c=dev_means, cmap=plt.cm.coolwarm)\n",
    "plt.xlabel(\"Dropout Rate\")\n",
    "plt.ylabel(\"L2 Rate\")\n",
    "plt.yscale(\"log\")\n",
    "plt.colorbar()\n",
    "plt.show()"
   ]
  },
  {
   "cell_type": "code",
   "execution_count": 20,
   "id": "fd6a9845-53be-4546-9241-6ecc8c7f70c6",
   "metadata": {
    "id": "fd6a9845-53be-4546-9241-6ecc8c7f70c6"
   },
   "outputs": [],
   "source": [
    "# Finding the Best DropOut and Best l2_regularization:\n",
    "default_cv_evaluate_params[\"dropout_rate\"] = best_dropout\n",
    "default_cv_evaluate_params[\"l2_regularization\"] = best_l2"
   ]
  },
  {
   "cell_type": "code",
   "execution_count": 21,
   "id": "ddd39f98-5969-45fc-a9fd-5860f74ffdf0",
   "metadata": {
    "id": "ddd39f98-5969-45fc-a9fd-5860f74ffdf0"
   },
   "outputs": [],
   "source": [
    "# Searching for the best Hyperparameter: \n",
    "def search_hyperparam(\n",
    "    param_name: str, lower: int, upper: int, nsamples: int,\n",
    "    scale: str = \"float\", **cv_evaluate_params) -> float:\n",
    "    \n",
    "    \"\"\"\n",
    "    Cross validates a model along an evenly spaced range of `nsamples`values for a single hyperparameter (identified by `param_name`.\n",
    "    The values are evenly spaced in the range `[lower,upper]`, and scaled according to `scale`.\n",
    "    \"\"\"\n",
    "    \n",
    "    # Sample the hyperparameter values to try.\n",
    "    param_values = np.linspace(lower, upper, nsamples)\n",
    "    \n",
    "    if scale == \"log\":\n",
    "        param_values = 10**param_values\n",
    "    elif scale == \"int\":\n",
    "        param_values = param_values.astype(int)\n",
    "    \n",
    "    # Evaluate the model at each of the values.\n",
    "    dev_means = np.zeros((nsamples, 1))\n",
    "    dev_stds = np.zeros((nsamples, 1))\n",
    "    \n",
    "    for i in tqdm(range(nsamples)):\n",
    "        results = cv_evaluate_model(**{**cv_evaluate_params, param_name: param_values[i]})\n",
    "        dev_means[i] = results[\"dev_mean\"]\n",
    "        dev_stds[i] = results[\"dev_std\"]\n",
    "    \n",
    "    # Find the best value.\n",
    "    best_param_value = param_values[np.argmax(dev_means)]\n",
    "    print(f\"Best {param_name} value: {best_param_value}\")\n",
    "    \n",
    "    # Plot scores achieved for all values.\n",
    "    plt.plot(param_values, dev_means)\n",
    "    plt.xlabel(param_name)\n",
    "    plt.ylabel(\"Mean Dev Set Accuracy\")\n",
    "    \n",
    "    if scale == \"log\":\n",
    "        plt.xscale(\"log\")\n",
    "        \n",
    "    plt.show()\n",
    "    \n",
    "    return best_param_value"
   ]
  },
  {
   "cell_type": "code",
   "execution_count": 22,
   "id": "0e781a83-0cca-411c-a5ab-5d26ad0d2a01",
   "metadata": {
    "colab": {
     "base_uri": "https://localhost:8080/",
     "height": 315
    },
    "id": "0e781a83-0cca-411c-a5ab-5d26ad0d2a01",
    "outputId": "089cca73-94e9-4f80-b48e-16068f229e70"
   },
   "outputs": [
    {
     "name": "stderr",
     "output_type": "stream",
     "text": [
      "100%|██████████| 10/10 [32:01<00:00, 192.19s/it]"
     ]
    },
    {
     "name": "stdout",
     "output_type": "stream",
     "text": [
      "Best epochs value: 300\n"
     ]
    },
    {
     "name": "stderr",
     "output_type": "stream",
     "text": [
      "\n"
     ]
    },
    {
     "data": {
      "image/png": "[encoded data removed]",
      "text/plain": [
       "<Figure size 432x288 with 1 Axes>"
      ]
     },
     "metadata": {
      "needs_background": "light"
     },
     "output_type": "display_data"
    }
   ],
   "source": [
    "# Searching over the number of epochs in the steps of 50 in range [50,500]:\n",
    "best_epochs = search_hyperparam(\"epochs\", 50, 500, 10, scale=\"int\", **default_cv_evaluate_params)"
   ]
  },
  {
   "cell_type": "code",
   "execution_count": null,
   "id": "29b499be-6b48-47f1-a7df-0b70ef9659f8",
   "metadata": {
    "colab": {
     "base_uri": "https://localhost:8080/",
     "height": 315
    },
    "id": "29b499be-6b48-47f1-a7df-0b70ef9659f8",
    "outputId": "863fa813-0208-4448-d103-561c5e1aab9a"
   },
   "outputs": [
    {
     "ename": "NameError",
     "evalue": "name 'search_hyperparam' is not defined",
     "output_type": "error",
     "traceback": [
      "\u001b[1;31m---------------------------------------------------------------------------\u001b[0m",
      "\u001b[1;31mNameError\u001b[0m                                 Traceback (most recent call last)",
      "Input \u001b[1;32mIn [1]\u001b[0m, in \u001b[0;36m<cell line: 2>\u001b[1;34m()\u001b[0m\n\u001b[0;32m      1\u001b[0m \u001b[38;5;66;03m# Searching over the number of epochs in the steps of 40 in range [400,800] \u001b[39;00m\n\u001b[1;32m----> 2\u001b[0m best_epochs2 \u001b[38;5;241m=\u001b[39m \u001b[43msearch_hyperparam\u001b[49m(\u001b[38;5;124m\"\u001b[39m\u001b[38;5;124mepochs\u001b[39m\u001b[38;5;124m\"\u001b[39m, \u001b[38;5;241m400\u001b[39m, \u001b[38;5;241m800\u001b[39m, \u001b[38;5;241m10\u001b[39m, scale\u001b[38;5;241m=\u001b[39m\u001b[38;5;124m\"\u001b[39m\u001b[38;5;124mint\u001b[39m\u001b[38;5;124m\"\u001b[39m, \u001b[38;5;241m*\u001b[39m\u001b[38;5;241m*\u001b[39mdefault_cv_evaluate_params)\n",
      "\u001b[1;31mNameError\u001b[0m: name 'search_hyperparam' is not defined"
     ]
    }
   ],
   "source": [
    "# Searching over the number of epochs in the steps of 40 in range [400,800] \n",
    "best_epochs2 = search_hyperparam(\"epochs\", 400, 800, 10, scale=\"int\", **default_cv_evaluate_params)"
   ]
  },
  {
   "cell_type": "code",
   "execution_count": 24,
   "id": "2168a64f-0477-4771-b16f-29df6b75e014",
   "metadata": {
    "id": "2168a64f-0477-4771-b16f-29df6b75e014"
   },
   "outputs": [],
   "source": [
    "# Finalozing on the best Epochs:\n",
    "default_cv_evaluate_params[\"epochs\"] = best_epochs2"
   ]
  },
  {
   "cell_type": "code",
   "execution_count": 25,
   "id": "0a426ac3-e50b-420c-868b-be656725fa8c",
   "metadata": {
    "id": "0a426ac3-e50b-420c-868b-be656725fa8c"
   },
   "outputs": [],
   "source": [
    "# Training the final model using our best found configuration and evaluate it on our independent test sample.\n",
    "def evaluate_final(params: dict) -> float:\n",
    "    \n",
    "    steps_per_epoch = math.ceil(len(X_embedding) / params[\"batch_size\"])\n",
    "    third_of_total_steps = math.floor(params[\"epochs\"] * steps_per_epoch / 3)\n",
    "\n",
    "    # Make and compile the model.\n",
    "    model = make_model(\n",
    "                       data.nclasses,\n",
    "                       dropout_rate = params[\"dropout_rate\"],\n",
    "                       nhiddenunits = params[\"nhiddenunits\"],\n",
    "                       l2_regularization = params[\"l2_regularization\"]\n",
    "                       )\n",
    "    \n",
    "    model.compile(optimizer = Adam(learning_rate = ExponentialDecay(\n",
    "                                                                    params[\"learning_rate\"],\n",
    "                                                                    decay_steps = third_of_total_steps,\n",
    "                                                                    decay_rate = 0.1,\n",
    "                                                                    staircase = True\n",
    "                                                                    )\n",
    "                                  ),\n",
    "                  loss = \"categorical_crossentropy\",\n",
    "                  metrics = [\"accuracy\"]\n",
    "                 )\n",
    "\n",
    "    # Train the model on the full training set (no development set)\n",
    "    model.fit(\n",
    "              X_embedding,\n",
    "              tf.convert_to_tensor(data.y),\n",
    "              batch_size = params[\"batch_size\"],\n",
    "              epochs = params[\"epochs\"],\n",
    "              verbose = 0\n",
    "              )\n",
    "\n",
    "    # Evaluate the fitted model on the test set.\n",
    "    _, test_acc = model.evaluate(\n",
    "                                 X_test_embedding,\n",
    "                                 data.y_test, \n",
    "                                 verbose = 0\n",
    "                                 )\n",
    "    \n",
    "    return test_acc"
   ]
  },
  {
   "cell_type": "code",
   "execution_count": 26,
   "id": "b8a67153",
   "metadata": {
    "colab": {
     "base_uri": "https://localhost:8080/"
    },
    "id": "b8a67153",
    "outputId": "96df188c-b889-4b28-c2d6-5818c66b81d6"
   },
   "outputs": [
    {
     "name": "stdout",
     "output_type": "stream",
     "text": [
      "Final test set accuracy:\t0.921569\n"
     ]
    }
   ],
   "source": [
    "# Got good test set accuracy, but we can train this model multiple times (always on the same training data) and evaluating it on the test set each time.\n",
    "test_acc = evaluate_final(default_cv_evaluate_params)\n",
    "print(f\"Final test set accuracy:\\t{test_acc:.2f}\")"
   ]
  },
  {
   "cell_type": "code",
   "execution_count": 27,
   "id": "4cf7278e-00a7-4cd0-9ab7-c6f57389878e",
   "metadata": {
    "colab": {
     "base_uri": "https://localhost:8080/"
    },
    "collapsed": true,
    "id": "4cf7278e-00a7-4cd0-9ab7-c6f57389878e",
    "jupyter": {
     "outputs_hidden": true
    },
    "outputId": "556d6a7d-1008-4ceb-cbad-e42d06522c5d",
    "tags": []
   },
   "outputs": [
    {
     "name": "stderr",
     "output_type": "stream",
     "text": [
      "  7%|▋         | 2/30 [00:48<11:21, 24.34s/it]"
     ]
    },
    {
     "name": "stdout",
     "output_type": "stream",
     "text": [
      "WARNING:tensorflow:5 out of the last 47 calls to <function Model.make_test_function.<locals>.test_function at 0x00000287B983C430> triggered tf.function retracing. Tracing is expensive and the excessive number of tracings could be due to (1) creating @tf.function repeatedly in a loop, (2) passing tensors with different shapes, (3) passing Python objects instead of tensors. For (1), please define your @tf.function outside of the loop. For (2), @tf.function has experimental_relax_shapes=True option that relaxes argument shapes that can avoid unnecessary retracing. For (3), please refer to https://www.tensorflow.org/guide/function#controlling_retracing and https://www.tensorflow.org/api_docs/python/tf/function for  more details.\n"
     ]
    },
    {
     "name": "stderr",
     "output_type": "stream",
     "text": [
      "WARNING:tensorflow:5 out of the last 47 calls to <function Model.make_test_function.<locals>.test_function at 0x00000287B983C430> triggered tf.function retracing. Tracing is expensive and the excessive number of tracings could be due to (1) creating @tf.function repeatedly in a loop, (2) passing tensors with different shapes, (3) passing Python objects instead of tensors. For (1), please define your @tf.function outside of the loop. For (2), @tf.function has experimental_relax_shapes=True option that relaxes argument shapes that can avoid unnecessary retracing. For (3), please refer to https://www.tensorflow.org/guide/function#controlling_retracing and https://www.tensorflow.org/api_docs/python/tf/function for  more details.\n",
      " 10%|█         | 3/30 [01:13<10:59, 24.43s/it]"
     ]
    },
    {
     "name": "stdout",
     "output_type": "stream",
     "text": [
      "WARNING:tensorflow:6 out of the last 49 calls to <function Model.make_test_function.<locals>.test_function at 0x00000287B1A7DF70> triggered tf.function retracing. Tracing is expensive and the excessive number of tracings could be due to (1) creating @tf.function repeatedly in a loop, (2) passing tensors with different shapes, (3) passing Python objects instead of tensors. For (1), please define your @tf.function outside of the loop. For (2), @tf.function has experimental_relax_shapes=True option that relaxes argument shapes that can avoid unnecessary retracing. For (3), please refer to https://www.tensorflow.org/guide/function#controlling_retracing and https://www.tensorflow.org/api_docs/python/tf/function for  more details.\n"
     ]
    },
    {
     "name": "stderr",
     "output_type": "stream",
     "text": [
      "WARNING:tensorflow:6 out of the last 49 calls to <function Model.make_test_function.<locals>.test_function at 0x00000287B1A7DF70> triggered tf.function retracing. Tracing is expensive and the excessive number of tracings could be due to (1) creating @tf.function repeatedly in a loop, (2) passing tensors with different shapes, (3) passing Python objects instead of tensors. For (1), please define your @tf.function outside of the loop. For (2), @tf.function has experimental_relax_shapes=True option that relaxes argument shapes that can avoid unnecessary retracing. For (3), please refer to https://www.tensorflow.org/guide/function#controlling_retracing and https://www.tensorflow.org/api_docs/python/tf/function for  more details.\n",
      "100%|██████████| 30/30 [11:59<00:00, 23.97s/it]\n"
     ]
    }
   ],
   "source": [
    "# Evaluating on the test set each time:\n",
    "test_accs = []\n",
    "for _ in tqdm(range(30)):\n",
    "    test_accs.append(evaluate_final(default_cv_evaluate_params))"
   ]
  },
  {
   "cell_type": "code",
   "execution_count": 14,
   "id": "336cd827-660f-4b92-b050-4195fee9e001",
   "metadata": {
    "colab": {
     "base_uri": "https://localhost:8080/",
     "height": 279
    },
    "id": "336cd827-660f-4b92-b050-4195fee9e001",
    "outputId": "cc104713-f2f3-4236-d4b6-eea45df4387b"
   },
   "outputs": [
    {
     "ename": "NameError",
     "evalue": "name 'test_accs' is not defined",
     "output_type": "error",
     "traceback": [
      "\u001b[1;31m---------------------------------------------------------------------------\u001b[0m",
      "\u001b[1;31mNameError\u001b[0m                                 Traceback (most recent call last)",
      "Input \u001b[1;32mIn [14]\u001b[0m, in \u001b[0;36m<cell line: 3>\u001b[1;34m()\u001b[0m\n\u001b[0;32m      1\u001b[0m \u001b[38;5;66;03m# Plotting The test accuracy by training this model multiple times:\u001b[39;00m\n\u001b[0;32m      2\u001b[0m plt\u001b[38;5;241m.\u001b[39mfigure(figsize\u001b[38;5;241m=\u001b[39m(\u001b[38;5;241m15\u001b[39m,\u001b[38;5;241m15\u001b[39m))\n\u001b[1;32m----> 3\u001b[0m plt\u001b[38;5;241m.\u001b[39mhist(\u001b[43mtest_accs\u001b[49m)\n\u001b[0;32m      4\u001b[0m plt\u001b[38;5;241m.\u001b[39mxlabel(\u001b[38;5;124m\"\u001b[39m\u001b[38;5;124mTest Set Accuracy\u001b[39m\u001b[38;5;124m\"\u001b[39m,fontsize\u001b[38;5;241m=\u001b[39m\u001b[38;5;241m15\u001b[39m)\n\u001b[0;32m      5\u001b[0m plt\u001b[38;5;241m.\u001b[39mylabel(\u001b[38;5;124m\"\u001b[39m\u001b[38;5;124mModel Count\u001b[39m\u001b[38;5;124m\"\u001b[39m,fontsize\u001b[38;5;241m=\u001b[39m\u001b[38;5;241m15\u001b[39m)\n",
      "\u001b[1;31mNameError\u001b[0m: name 'test_accs' is not defined"
     ]
    },
    {
     "data": {
      "text/plain": [
       "<Figure size 1080x1080 with 0 Axes>"
      ]
     },
     "metadata": {},
     "output_type": "display_data"
    }
   ],
   "source": [
    "# Plotting The test accuracy by training this model multiple times:\n",
    "plt.hist(test_accs)\n",
    "plt.title('Model Accuracy', fontsize = 20)\n",
    "plt.xlabel(\"Test Set Accuracy\", fontsize = 15)\n",
    "plt.ylabel(\"Model Count\", fontsize = 15)\n",
    "plt.show()"
   ]
  },
  {
   "cell_type": "code",
   "execution_count": null,
   "id": "4bde7816-d452-4195-936c-3fc3b79aef5f",
   "metadata": {
    "tags": []
   },
   "outputs": [],
   "source": []
  }
 ],
 "metadata": {
  "accelerator": "GPU",
  "colab": {
   "name": "FewShotLearning250.ipynb",
   "provenance": []
  },
  "kernelspec": {
   "display_name": "Python 3 (ipykernel)",
   "language": "python",
   "name": "python3"
  },
  "language_info": {
   "codemirror_mode": {
    "name": "ipython",
    "version": 3
   },
   "file_extension": ".py",
   "mimetype": "text/x-python",
   "name": "python",
   "nbconvert_exporter": "python",
   "pygments_lexer": "ipython3",
   "version": "3.9.12"
  }
 },
 "nbformat": 4,
 "nbformat_minor": 5
}
