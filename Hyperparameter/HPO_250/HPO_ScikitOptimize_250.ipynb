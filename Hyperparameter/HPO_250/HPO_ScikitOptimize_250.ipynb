{
 "cells": [
  {
   "cell_type": "markdown",
   "id": "1cc6eb1e-0744-4f12-85b0-50bdf859512b",
   "metadata": {},
   "source": [
    "## Brain Tumour Detection model using XGBoost Classifier and Hyperparameter Optimization using Scikit-Optimize:"
   ]
  },
  {
   "cell_type": "code",
   "execution_count": 1,
   "id": "1a4b60c4-0dc2-42a0-b98d-76839dae731d",
   "metadata": {},
   "outputs": [],
   "source": [
    "# !pip install scikit-optimize"
   ]
  },
  {
   "cell_type": "code",
   "execution_count": 2,
   "id": "5e645486-f4db-4ccc-a544-049b7d8947ed",
   "metadata": {},
   "outputs": [
    {
     "name": "stdout",
     "output_type": "stream",
     "text": [
      "skopt 0.9.0\n"
     ]
    }
   ],
   "source": [
    "# Importing Scikit-Optimize\n",
    "import skopt\n",
    "print('skopt %s' % skopt.__version__)"
   ]
  },
  {
   "cell_type": "code",
   "execution_count": 4,
   "id": "dfc07290-c836-4d22-a7bc-dea29bfb052d",
   "metadata": {},
   "outputs": [],
   "source": [
    "# Importing required Libraries:\n",
    "import pandas as pd\n",
    "import numpy as np\n",
    "from sklearn.model_selection import train_test_split\n",
    "from xgboost import XGBClassifier\n",
    "from sklearn.metrics import accuracy_score, confusion_matrix, classification_report, precision_score, recall_score, f1_score\n",
    "from sklearn.model_selection import cross_val_score\n",
    "from skopt.space import Real, Integer\n",
    "from skopt.utils import use_named_args\n",
    "from skopt import gp_minimize\n",
    "from skopt.plots import plot_convergence"
   ]
  },
  {
   "cell_type": "code",
   "execution_count": 5,
   "id": "0aa58b91-7f45-4855-bb9f-e488b06f4e83",
   "metadata": {},
   "outputs": [],
   "source": [
    "# Reading the dataset:\n",
    "df = pd.read_csv('Zernike_Moments_YN_250.csv', header=None)"
   ]
  },
  {
   "cell_type": "code",
   "execution_count": 6,
   "id": "6fe8081a-cc40-4444-8b0d-ea79e1e03dfd",
   "metadata": {},
   "outputs": [],
   "source": [
    "# Shuffling the whole dataset:\n",
    "df = df.sample(frac=1, random_state=0).reset_index(drop=True)"
   ]
  },
  {
   "cell_type": "code",
   "execution_count": 7,
   "id": "84a79270-f653-4cc5-a0b8-541e0d9ce625",
   "metadata": {},
   "outputs": [],
   "source": [
    "# Converting categorical values of Target feature into numerical:\n",
    "df[289].replace(['YES','NO'], [1,0], inplace=True)"
   ]
  },
  {
   "cell_type": "code",
   "execution_count": 8,
   "id": "89a17b6d-216a-4b9b-9e32-67e2ff9271f1",
   "metadata": {},
   "outputs": [],
   "source": [
    "# Independent and Dependent features:\n",
    "X = df.iloc[:, :-1]\n",
    "y = df.iloc[:, -1]"
   ]
  },
  {
   "cell_type": "code",
   "execution_count": 9,
   "id": "cf96c3f7-ea51-4302-b969-63054ebf164a",
   "metadata": {},
   "outputs": [],
   "source": [
    "# Train-Test spilt\n",
    "x_train, x_test, y_train, y_test = train_test_split(X, y, test_size=0.2, random_state=0) "
   ]
  },
  {
   "cell_type": "markdown",
   "id": "af8b1c33-dff5-4b2c-b0a9-f6395fcfaf8a",
   "metadata": {},
   "source": [
    "### Scikit Optimize"
   ]
  },
  {
   "cell_type": "code",
   "execution_count": 10,
   "id": "3adf6a6f-1f4d-4820-8bcc-74e08d8d378e",
   "metadata": {},
   "outputs": [],
   "source": [
    "# Listing Parameters Range:\n",
    "space = [\n",
    "         Integer(100, 1000, name = 'n_estimators'),\n",
    "         Real(10**-5, 10**0, \"log-uniform\", name = 'learning_rate'),\n",
    "         Integer(1, 10, name = 'max_depth'),\n",
    "         Integer(1, 10, name = 'min_child_weight')\n",
    "        ]\n",
    "\n",
    "xgb = XGBClassifier()\n",
    "\n",
    "# scikit-learn estimator parameters\n",
    "@use_named_args(space)\n",
    "def objective(**params):\n",
    "    \n",
    "    xgb.set_params(**params)\n",
    "    return -np.mean(cross_val_score(xgb, \n",
    "                                    X, y, \n",
    "                                    cv=5, \n",
    "                                    n_jobs=-1,\n",
    "                                    scoring=\"neg_mean_absolute_error\"))"
   ]
  },
  {
   "cell_type": "code",
   "execution_count": 11,
   "id": "5fc72738-e0e3-46dd-96fc-d01f3f9f5f17",
   "metadata": {
    "tags": []
   },
   "outputs": [
    {
     "data": {
      "text/plain": [
       "'Best score=0.18'"
      ]
     },
     "execution_count": 11,
     "metadata": {},
     "output_type": "execute_result"
    }
   ],
   "source": [
    "res_gp = gp_minimize(objective, space, n_calls=50, random_state=0)\n",
    "\n",
    "\"Best score=%.2f\" % res_gp.fun"
   ]
  },
  {
   "cell_type": "code",
   "execution_count": 12,
   "id": "9d12874e-1e3a-4700-9cb6-2b59a97ae562",
   "metadata": {},
   "outputs": [
    {
     "name": "stdout",
     "output_type": "stream",
     "text": [
      "Best parameters:\n",
      "      - n_estimators = 1000\n",
      "      - learning_rate = 0.020285\n",
      "      - max_depth = 10\n",
      "      - min_child_weight = 1\n",
      "      \n"
     ]
    }
   ],
   "source": [
    "print(\n",
    "      \"\"\"Best parameters:\n",
    "      - n_estimators = %d\n",
    "      - learning_rate = %.6f\n",
    "      - max_depth = %d\n",
    "      - min_child_weight = %d\n",
    "      \"\"\" \n",
    "      % (res_gp.x[0], res_gp.x[1], res_gp.x[2], res_gp.x[3])\n",
    "      )"
   ]
  },
  {
   "cell_type": "code",
   "execution_count": 13,
   "id": "be4d8972-547b-4587-8471-07b741a76a6e",
   "metadata": {
    "tags": []
   },
   "outputs": [],
   "source": [
    "# Using Best parameters found from HyperParameter Optimization done using Scikit-Optimize:\n",
    "xgb = XGBClassifier(\n",
    "                    n_estimators=1000,\n",
    "                    learning_rate = 0.0202,\n",
    "                    max_depth = 10,\n",
    "                    min_child_weight = 1\n",
    "                   )"
   ]
  },
  {
   "cell_type": "code",
   "execution_count": 15,
   "id": "987a2e87-2c49-4d0f-9298-9cb7e701e787",
   "metadata": {},
   "outputs": [
    {
     "name": "stdout",
     "output_type": "stream",
     "text": [
      "[15:44:31] WARNING: C:/Users/Administrator/workspace/xgboost-win64_release_1.5.1/src/learner.cc:1115: Starting in XGBoost 1.3.0, the default evaluation metric used with the objective 'binary:logistic' was changed from 'error' to 'logloss'. Explicitly set eval_metric if you'd like to restore the old behavior.\n"
     ]
    },
    {
     "data": {
      "text/plain": [
       "XGBClassifier(base_score=0.5, booster='gbtree', colsample_bylevel=1,\n",
       "              colsample_bynode=1, colsample_bytree=1, enable_categorical=False,\n",
       "              gamma=0, gpu_id=-1, importance_type=None,\n",
       "              interaction_constraints='', learning_rate=0.0202,\n",
       "              max_delta_step=0, max_depth=10, min_child_weight=1, missing=nan,\n",
       "              monotone_constraints='()', n_estimators=1000, n_jobs=12,\n",
       "              num_parallel_tree=1, predictor='auto', random_state=0,\n",
       "              reg_alpha=0, reg_lambda=1, scale_pos_weight=1, subsample=1,\n",
       "              tree_method='exact', validate_parameters=1, verbosity=None)"
      ]
     },
     "execution_count": 15,
     "metadata": {},
     "output_type": "execute_result"
    }
   ],
   "source": [
    "# Fitting the Training data:\n",
    "xgb.fit(x_train, y_train)"
   ]
  },
  {
   "cell_type": "code",
   "execution_count": 16,
   "id": "4be4be1c-e61b-4f75-a904-07497b92c1ef",
   "metadata": {},
   "outputs": [],
   "source": [
    "# Predicting the test data:\n",
    "y_pred = xgb.predict(x_test)"
   ]
  },
  {
   "cell_type": "markdown",
   "id": "25b12300-a394-4f01-84f4-f6bf8fc4aa17",
   "metadata": {},
   "source": [
    "### Results:"
   ]
  },
  {
   "cell_type": "code",
   "execution_count": 17,
   "id": "2a8f10ac-6b61-45ba-8d52-4916e528ea37",
   "metadata": {},
   "outputs": [
    {
     "name": "stdout",
     "output_type": "stream",
     "text": [
      "Accuracy : 86.0 %\n"
     ]
    }
   ],
   "source": [
    "print(\"Accuracy :\", round(accuracy_score(y_test, y_pred), 2)*100, \"%\")"
   ]
  },
  {
   "cell_type": "code",
   "execution_count": 18,
   "id": "81a32e21-63a8-461b-96ab-527d8c47a980",
   "metadata": {},
   "outputs": [
    {
     "name": "stdout",
     "output_type": "stream",
     "text": [
      "Precision : 85.0 %\n"
     ]
    }
   ],
   "source": [
    "print(\"Precision :\", round(precision_score(y_test, y_pred), 2)*100, \"%\")"
   ]
  },
  {
   "cell_type": "code",
   "execution_count": 19,
   "id": "bb8e656c-4f6a-435c-9902-3e4e74fa89ef",
   "metadata": {},
   "outputs": [
    {
     "name": "stdout",
     "output_type": "stream",
     "text": [
      "Recall : 94.0 %\n"
     ]
    }
   ],
   "source": [
    "print(\"Recall :\", round(recall_score(y_test, y_pred), 2)*100, \"%\")"
   ]
  },
  {
   "cell_type": "code",
   "execution_count": 20,
   "id": "6c4beab0-311d-4116-ac69-93afb136421c",
   "metadata": {
    "tags": []
   },
   "outputs": [
    {
     "name": "stdout",
     "output_type": "stream",
     "text": [
      "f1_Score : 89.0 %\n"
     ]
    }
   ],
   "source": [
    "print(\"f1_Score :\", round(f1_score(y_test, y_pred), 2)*100, \"%\")"
   ]
  },
  {
   "cell_type": "code",
   "execution_count": 21,
   "id": "411275af-daad-4f66-a036-515c9d9ea856",
   "metadata": {},
   "outputs": [
    {
     "name": "stdout",
     "output_type": "stream",
     "text": [
      "Confusion Matrix :\n",
      "[[14  5]\n",
      " [ 2 29]]\n"
     ]
    }
   ],
   "source": [
    "print(\"Confusion Matrix :\")\n",
    "print(confusion_matrix(y_test, y_pred))"
   ]
  },
  {
   "cell_type": "code",
   "execution_count": 22,
   "id": "f2674357-009f-4027-b3cf-33f9a289e2aa",
   "metadata": {},
   "outputs": [
    {
     "name": "stdout",
     "output_type": "stream",
     "text": [
      "Classification Report :\n",
      "              precision    recall  f1-score   support\n",
      "\n",
      "           0       0.88      0.74      0.80        19\n",
      "           1       0.85      0.94      0.89        31\n",
      "\n",
      "    accuracy                           0.86        50\n",
      "   macro avg       0.86      0.84      0.85        50\n",
      "weighted avg       0.86      0.86      0.86        50\n",
      "\n"
     ]
    }
   ],
   "source": [
    "print(\"Classification Report :\")\n",
    "print(classification_report(y_test, y_pred))"
   ]
  },
  {
   "cell_type": "code",
   "execution_count": null,
   "id": "66e4b88a-42cf-43b2-abfc-efdc82411d34",
   "metadata": {
    "jupyter": {
     "source_hidden": true
    },
    "tags": []
   },
   "outputs": [],
   "source": []
  }
 ],
 "metadata": {
  "kernelspec": {
   "display_name": "Python 3 (ipykernel)",
   "language": "python",
   "name": "python3"
  },
  "language_info": {
   "codemirror_mode": {
    "name": "ipython",
    "version": 3
   },
   "file_extension": ".py",
   "mimetype": "text/x-python",
   "name": "python",
   "nbconvert_exporter": "python",
   "pygments_lexer": "ipython3",
   "version": "3.9.12"
  }
 },
 "nbformat": 4,
 "nbformat_minor": 5
}
