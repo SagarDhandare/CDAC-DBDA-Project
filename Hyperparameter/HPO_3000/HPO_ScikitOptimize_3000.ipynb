{
  "cells": [
    {
      "cell_type": "markdown",
      "id": "1cc6eb1e-0744-4f12-85b0-50bdf859512b",
      "metadata": {
        "id": "1cc6eb1e-0744-4f12-85b0-50bdf859512b"
      },
      "source": [
        "## Brain Tumour Detection model using XGBoost Classifier and Hyperparameter Optimization using Scikit-Optimize:"
      ]
    },
    {
      "cell_type": "code",
      "source": [
        "from google.colab import drive\n",
        "drive.mount('/content/drive')"
      ],
      "metadata": {
        "colab": {
          "base_uri": "https://localhost:8080/"
        },
        "id": "8Uj2B1wTziyK",
        "outputId": "076be21d-7f21-4d59-8f2a-08ce1bf3e350"
      },
      "id": "8Uj2B1wTziyK",
      "execution_count": 1,
      "outputs": [
        {
          "output_type": "stream",
          "name": "stdout",
          "text": [
            "Mounted at /content/drive\n"
          ]
        }
      ]
    },
    {
      "cell_type": "code",
      "execution_count": 2,
      "id": "1a4b60c4-0dc2-42a0-b98d-76839dae731d",
      "metadata": {
        "colab": {
          "base_uri": "https://localhost:8080/"
        },
        "id": "1a4b60c4-0dc2-42a0-b98d-76839dae731d",
        "outputId": "ab824de6-cad5-4b8f-ed89-a1606014e1cb"
      },
      "outputs": [
        {
          "output_type": "stream",
          "name": "stdout",
          "text": [
            "Collecting scikit-optimize\n",
            "  Downloading scikit_optimize-0.9.0-py2.py3-none-any.whl (100 kB)\n",
            "\u001b[?25l\r\u001b[K     |███▎                            | 10 kB 17.3 MB/s eta 0:00:01\r\u001b[K     |██████▌                         | 20 kB 9.2 MB/s eta 0:00:01\r\u001b[K     |█████████▉                      | 30 kB 7.9 MB/s eta 0:00:01\r\u001b[K     |█████████████                   | 40 kB 7.2 MB/s eta 0:00:01\r\u001b[K     |████████████████▍               | 51 kB 4.4 MB/s eta 0:00:01\r\u001b[K     |███████████████████▋            | 61 kB 5.2 MB/s eta 0:00:01\r\u001b[K     |██████████████████████▉         | 71 kB 5.3 MB/s eta 0:00:01\r\u001b[K     |██████████████████████████▏     | 81 kB 4.2 MB/s eta 0:00:01\r\u001b[K     |█████████████████████████████▍  | 92 kB 4.7 MB/s eta 0:00:01\r\u001b[K     |████████████████████████████████| 100 kB 3.7 MB/s \n",
            "\u001b[?25hCollecting pyaml>=16.9\n",
            "  Downloading pyaml-21.10.1-py2.py3-none-any.whl (24 kB)\n",
            "Requirement already satisfied: scipy>=0.19.1 in /usr/local/lib/python3.7/dist-packages (from scikit-optimize) (1.4.1)\n",
            "Requirement already satisfied: scikit-learn>=0.20.0 in /usr/local/lib/python3.7/dist-packages (from scikit-optimize) (1.0.2)\n",
            "Requirement already satisfied: numpy>=1.13.3 in /usr/local/lib/python3.7/dist-packages (from scikit-optimize) (1.21.5)\n",
            "Requirement already satisfied: joblib>=0.11 in /usr/local/lib/python3.7/dist-packages (from scikit-optimize) (1.1.0)\n",
            "Requirement already satisfied: PyYAML in /usr/local/lib/python3.7/dist-packages (from pyaml>=16.9->scikit-optimize) (3.13)\n",
            "Requirement already satisfied: threadpoolctl>=2.0.0 in /usr/local/lib/python3.7/dist-packages (from scikit-learn>=0.20.0->scikit-optimize) (3.1.0)\n",
            "Installing collected packages: pyaml, scikit-optimize\n",
            "Successfully installed pyaml-21.10.1 scikit-optimize-0.9.0\n"
          ]
        }
      ],
      "source": [
        "!pip install scikit-optimize"
      ]
    },
    {
      "cell_type": "code",
      "execution_count": 13,
      "id": "5e645486-f4db-4ccc-a544-049b7d8947ed",
      "metadata": {
        "colab": {
          "base_uri": "https://localhost:8080/"
        },
        "id": "5e645486-f4db-4ccc-a544-049b7d8947ed",
        "outputId": "4ee46ccb-031a-4545-a911-c97d2affcf2d"
      },
      "outputs": [
        {
          "output_type": "stream",
          "name": "stdout",
          "text": [
            "skopt 0.9.0\n"
          ]
        }
      ],
      "source": [
        "# Importing Scikit-Optimize\n",
        "import skopt\n",
        "print('skopt %s' % skopt.__version__)"
      ]
    },
    {
      "cell_type": "code",
      "execution_count": 14,
      "id": "dfc07290-c836-4d22-a7bc-dea29bfb052d",
      "metadata": {
        "id": "dfc07290-c836-4d22-a7bc-dea29bfb052d"
      },
      "outputs": [],
      "source": [
        "# Importing required Libraries:\n",
        "import pandas as pd\n",
        "import numpy as np\n",
        "from sklearn.model_selection import train_test_split\n",
        "from xgboost import XGBClassifier\n",
        "from sklearn.metrics import accuracy_score, confusion_matrix, classification_report, precision_score, recall_score, f1_score\n",
        "from sklearn.model_selection import cross_val_score\n",
        "from skopt.space import Real, Integer\n",
        "from skopt.utils import use_named_args\n",
        "from skopt import gp_minimize\n",
        "from skopt.plots import plot_convergence"
      ]
    },
    {
      "cell_type": "code",
      "execution_count": 15,
      "id": "0aa58b91-7f45-4855-bb9f-e488b06f4e83",
      "metadata": {
        "id": "0aa58b91-7f45-4855-bb9f-e488b06f4e83"
      },
      "outputs": [],
      "source": [
        "# Reading the dataset:\n",
        "df = pd.read_csv('/content/drive/MyDrive/Colab Notebooks/HPO_Scikit_Optimize_3000/Zernike_Moments_YN_3000.csv', header=None)"
      ]
    },
    {
      "cell_type": "code",
      "execution_count": 16,
      "id": "6fe8081a-cc40-4444-8b0d-ea79e1e03dfd",
      "metadata": {
        "id": "6fe8081a-cc40-4444-8b0d-ea79e1e03dfd"
      },
      "outputs": [],
      "source": [
        "# Shuffling the whole dataset:\n",
        "df = df.sample(frac=1, random_state=0).reset_index(drop=True)"
      ]
    },
    {
      "cell_type": "code",
      "execution_count": 17,
      "id": "84a79270-f653-4cc5-a0b8-541e0d9ce625",
      "metadata": {
        "id": "84a79270-f653-4cc5-a0b8-541e0d9ce625"
      },
      "outputs": [],
      "source": [
        "# Converting categorical values of Target feature into numerical:\n",
        "df[289].replace(['YES','NO'], [1,0], inplace=True)"
      ]
    },
    {
      "cell_type": "code",
      "execution_count": 18,
      "id": "89a17b6d-216a-4b9b-9e32-67e2ff9271f1",
      "metadata": {
        "id": "89a17b6d-216a-4b9b-9e32-67e2ff9271f1"
      },
      "outputs": [],
      "source": [
        "# Independent and Dependent features:\n",
        "X = df.iloc[:, :-1]\n",
        "y = df.iloc[:, -1]"
      ]
    },
    {
      "cell_type": "code",
      "execution_count": 19,
      "id": "cf96c3f7-ea51-4302-b969-63054ebf164a",
      "metadata": {
        "id": "cf96c3f7-ea51-4302-b969-63054ebf164a"
      },
      "outputs": [],
      "source": [
        "# Train-Test spilt\n",
        "x_train, x_test, y_train, y_test = train_test_split(X, y, test_size=0.2, random_state=0) "
      ]
    },
    {
      "cell_type": "markdown",
      "id": "af8b1c33-dff5-4b2c-b0a9-f6395fcfaf8a",
      "metadata": {
        "id": "af8b1c33-dff5-4b2c-b0a9-f6395fcfaf8a"
      },
      "source": [
        "### Scikit Optimize"
      ]
    },
    {
      "cell_type": "code",
      "execution_count": 20,
      "id": "3adf6a6f-1f4d-4820-8bcc-74e08d8d378e",
      "metadata": {
        "id": "3adf6a6f-1f4d-4820-8bcc-74e08d8d378e"
      },
      "outputs": [],
      "source": [
        "# Listing Parameters Range:\n",
        "space = [\n",
        "         Integer(100, 1000, name = 'n_estimators'),\n",
        "         Real(10**-5, 10**0, \"log-uniform\", name = 'learning_rate'),\n",
        "         Integer(1, 10, name = 'max_depth'),\n",
        "         Integer(1, 10, name = 'min_child_weight')\n",
        "        ]\n",
        "\n",
        "xgb = XGBClassifier()\n",
        "\n",
        "# scikit-learn estimator parameters\n",
        "@use_named_args(space)\n",
        "def objective(**params):\n",
        "    \n",
        "    xgb.set_params(**params)\n",
        "    return -np.mean(cross_val_score(xgb, \n",
        "                                    X, y, \n",
        "                                    cv=5, \n",
        "                                    n_jobs=-1,\n",
        "                                    scoring=\"neg_mean_absolute_error\"))"
      ]
    },
    {
      "cell_type": "code",
      "execution_count": 21,
      "id": "5fc72738-e0e3-46dd-96fc-d01f3f9f5f17",
      "metadata": {
        "tags": [],
        "colab": {
          "base_uri": "https://localhost:8080/",
          "height": 36
        },
        "id": "5fc72738-e0e3-46dd-96fc-d01f3f9f5f17",
        "outputId": "9fd9255d-36a3-4521-941e-adfb7d40b340"
      },
      "outputs": [
        {
          "output_type": "execute_result",
          "data": {
            "text/plain": [
              "'Best score=0.03'"
            ],
            "application/vnd.google.colaboratory.intrinsic+json": {
              "type": "string"
            }
          },
          "metadata": {},
          "execution_count": 21
        }
      ],
      "source": [
        "res_gp = gp_minimize(objective, space, n_calls=50, random_state=0)\n",
        "\n",
        "\"Best score=%.2f\" % res_gp.fun"
      ]
    },
    {
      "cell_type": "code",
      "execution_count": 22,
      "id": "9d12874e-1e3a-4700-9cb6-2b59a97ae562",
      "metadata": {
        "colab": {
          "base_uri": "https://localhost:8080/"
        },
        "id": "9d12874e-1e3a-4700-9cb6-2b59a97ae562",
        "outputId": "c3110c33-f3a9-45ed-82e6-b4c08eaf0209"
      },
      "outputs": [
        {
          "output_type": "stream",
          "name": "stdout",
          "text": [
            "Best parameters:\n",
            "      - n_estimators = 1000\n",
            "      - learning_rate = 0.036110\n",
            "      - max_depth = 6\n",
            "      - min_child_weight = 1\n",
            "      \n"
          ]
        }
      ],
      "source": [
        "print(\n",
        "      \"\"\"Best parameters:\n",
        "      - n_estimators = %d\n",
        "      - learning_rate = %.6f\n",
        "      - max_depth = %d\n",
        "      - min_child_weight = %d\n",
        "      \"\"\" \n",
        "      % (res_gp.x[0], res_gp.x[1], res_gp.x[2], res_gp.x[3])\n",
        "      )"
      ]
    },
    {
      "cell_type": "code",
      "execution_count": 24,
      "id": "be4d8972-547b-4587-8471-07b741a76a6e",
      "metadata": {
        "tags": [],
        "id": "be4d8972-547b-4587-8471-07b741a76a6e"
      },
      "outputs": [],
      "source": [
        "# Using Best parameters found from HyperParameter Optimization done using Scikit-Optimize:\n",
        "xgb = XGBClassifier(\n",
        "                    n_estimators = 1000,\n",
        "                    learning_rate = 0.0361,\n",
        "                    max_depth = 6,\n",
        "                    min_child_weight = 1\n",
        "                   )"
      ]
    },
    {
      "cell_type": "code",
      "execution_count": 25,
      "id": "987a2e87-2c49-4d0f-9298-9cb7e701e787",
      "metadata": {
        "colab": {
          "base_uri": "https://localhost:8080/"
        },
        "id": "987a2e87-2c49-4d0f-9298-9cb7e701e787",
        "outputId": "3b83eb4f-2ab4-409c-bce5-940d044cfe8d"
      },
      "outputs": [
        {
          "output_type": "execute_result",
          "data": {
            "text/plain": [
              "XGBClassifier(learning_rate=0.0361, max_depth=6, n_estimators=1000)"
            ]
          },
          "metadata": {},
          "execution_count": 25
        }
      ],
      "source": [
        "# Fitting the Training data:\n",
        "xgb.fit(x_train, y_train)"
      ]
    },
    {
      "cell_type": "code",
      "execution_count": 26,
      "id": "4be4be1c-e61b-4f75-a904-07497b92c1ef",
      "metadata": {
        "id": "4be4be1c-e61b-4f75-a904-07497b92c1ef"
      },
      "outputs": [],
      "source": [
        "# Predicting the test data:\n",
        "y_pred = xgb.predict(x_test)"
      ]
    },
    {
      "cell_type": "markdown",
      "id": "25b12300-a394-4f01-84f4-f6bf8fc4aa17",
      "metadata": {
        "id": "25b12300-a394-4f01-84f4-f6bf8fc4aa17"
      },
      "source": [
        "### Results:"
      ]
    },
    {
      "cell_type": "code",
      "execution_count": 27,
      "id": "2a8f10ac-6b61-45ba-8d52-4916e528ea37",
      "metadata": {
        "colab": {
          "base_uri": "https://localhost:8080/"
        },
        "id": "2a8f10ac-6b61-45ba-8d52-4916e528ea37",
        "outputId": "2f532df4-1ee2-4c8a-c03f-99ee9b1ef41e"
      },
      "outputs": [
        {
          "output_type": "stream",
          "name": "stdout",
          "text": [
            "Accuracy : 96.0 %\n"
          ]
        }
      ],
      "source": [
        "print(\"Accuracy :\", round(accuracy_score(y_test, y_pred), 2)*100, \"%\")"
      ]
    },
    {
      "cell_type": "code",
      "execution_count": 28,
      "id": "81a32e21-63a8-461b-96ab-527d8c47a980",
      "metadata": {
        "colab": {
          "base_uri": "https://localhost:8080/"
        },
        "id": "81a32e21-63a8-461b-96ab-527d8c47a980",
        "outputId": "7554c07e-670d-4918-b1ee-1599a1303c40"
      },
      "outputs": [
        {
          "output_type": "stream",
          "name": "stdout",
          "text": [
            "Precision : 97.0 %\n"
          ]
        }
      ],
      "source": [
        "print(\"Precision :\", round(precision_score(y_test, y_pred), 2)*100, \"%\")"
      ]
    },
    {
      "cell_type": "code",
      "execution_count": 29,
      "id": "bb8e656c-4f6a-435c-9902-3e4e74fa89ef",
      "metadata": {
        "colab": {
          "base_uri": "https://localhost:8080/"
        },
        "id": "bb8e656c-4f6a-435c-9902-3e4e74fa89ef",
        "outputId": "3e4a3b09-770d-431d-8ffe-3749ec7b7817"
      },
      "outputs": [
        {
          "output_type": "stream",
          "name": "stdout",
          "text": [
            "Recall : 97.0 %\n"
          ]
        }
      ],
      "source": [
        "print(\"Recall :\", round(recall_score(y_test, y_pred), 2)*100, \"%\")"
      ]
    },
    {
      "cell_type": "code",
      "execution_count": 30,
      "id": "6c4beab0-311d-4116-ac69-93afb136421c",
      "metadata": {
        "tags": [],
        "colab": {
          "base_uri": "https://localhost:8080/"
        },
        "id": "6c4beab0-311d-4116-ac69-93afb136421c",
        "outputId": "6dee9031-bd65-4422-9f5e-5f2d9bd5e0a7"
      },
      "outputs": [
        {
          "output_type": "stream",
          "name": "stdout",
          "text": [
            "f1_Score : 97.0 %\n"
          ]
        }
      ],
      "source": [
        "print(\"f1_Score :\", round(f1_score(y_test, y_pred), 2)*100, \"%\")"
      ]
    },
    {
      "cell_type": "code",
      "execution_count": 31,
      "id": "411275af-daad-4f66-a036-515c9d9ea856",
      "metadata": {
        "colab": {
          "base_uri": "https://localhost:8080/"
        },
        "id": "411275af-daad-4f66-a036-515c9d9ea856",
        "outputId": "eaf5b4c8-a6a9-4139-f1f3-b0d6d718546f"
      },
      "outputs": [
        {
          "output_type": "stream",
          "name": "stdout",
          "text": [
            "Confusion Matrix :\n",
            "[[196  11]\n",
            " [ 11 334]]\n"
          ]
        }
      ],
      "source": [
        "print(\"Confusion Matrix :\")\n",
        "print(confusion_matrix(y_test, y_pred))"
      ]
    },
    {
      "cell_type": "code",
      "execution_count": 32,
      "id": "f2674357-009f-4027-b3cf-33f9a289e2aa",
      "metadata": {
        "colab": {
          "base_uri": "https://localhost:8080/"
        },
        "id": "f2674357-009f-4027-b3cf-33f9a289e2aa",
        "outputId": "5ab95578-7bd8-462b-a9f0-8a9d1b241c7a"
      },
      "outputs": [
        {
          "output_type": "stream",
          "name": "stdout",
          "text": [
            "Classification Report :\n",
            "              precision    recall  f1-score   support\n",
            "\n",
            "           0       0.95      0.95      0.95       207\n",
            "           1       0.97      0.97      0.97       345\n",
            "\n",
            "    accuracy                           0.96       552\n",
            "   macro avg       0.96      0.96      0.96       552\n",
            "weighted avg       0.96      0.96      0.96       552\n",
            "\n"
          ]
        }
      ],
      "source": [
        "print(\"Classification Report :\")\n",
        "print(classification_report(y_test, y_pred))"
      ]
    },
    {
      "cell_type": "code",
      "execution_count": 33,
      "id": "66e4b88a-42cf-43b2-abfc-efdc82411d34",
      "metadata": {
        "jupyter": {
          "source_hidden": true
        },
        "tags": [],
        "id": "66e4b88a-42cf-43b2-abfc-efdc82411d34"
      },
      "outputs": [],
      "source": [
        "# Creating a pickle file for the classifier\n",
        "import pickle\n",
        "filename = 'HPO_ScikitOptimize_3000.pkl'\n",
        "pickle.dump(xgb, open(filename, 'wb'))"
      ]
    }
  ],
  "metadata": {
    "kernelspec": {
      "display_name": "Python 3 (ipykernel)",
      "language": "python",
      "name": "python3"
    },
    "language_info": {
      "codemirror_mode": {
        "name": "ipython",
        "version": 3
      },
      "file_extension": ".py",
      "mimetype": "text/x-python",
      "name": "python",
      "nbconvert_exporter": "python",
      "pygments_lexer": "ipython3",
      "version": "3.9.12"
    },
    "colab": {
      "name": "HPO_ScikitOptimize_3000.ipynb",
      "provenance": []
    },
    "accelerator": "TPU"
  },
  "nbformat": 4,
  "nbformat_minor": 5
}