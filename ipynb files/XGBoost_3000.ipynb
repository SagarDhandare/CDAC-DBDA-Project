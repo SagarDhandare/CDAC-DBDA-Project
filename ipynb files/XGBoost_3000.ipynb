{
 "cells": [
  {
   "cell_type": "markdown",
   "id": "a6a70ed8-0a13-4b37-850d-19be9ff65e4d",
   "metadata": {},
   "source": [
    "## Brain Tumour Detection model using XGBoost Classifier:"
   ]
  },
  {
   "cell_type": "code",
   "execution_count": 2,
   "id": "dfc07290-c836-4d22-a7bc-dea29bfb052d",
   "metadata": {},
   "outputs": [],
   "source": [
    "# Importing required Libraries:\n",
    "import pandas as pd\n",
    "import numpy as np\n",
    "import matplotlib.pyplot as plt\n",
    "import seaborn as sns\n",
    "from sklearn.model_selection import train_test_split\n",
    "from xgboost import XGBClassifier\n",
    "from sklearn.metrics import accuracy_score, confusion_matrix, classification_report, precision_score, recall_score, f1_score"
   ]
  },
  {
   "cell_type": "code",
   "execution_count": 3,
   "id": "e18db99c-bed7-4f62-994e-75cfeca6c90c",
   "metadata": {},
   "outputs": [],
   "source": [
    "# Reading the dataset:\n",
    "df = pd.read_csv('Zernike_Moments_YN_3000.csv', header=None)"
   ]
  },
  {
   "cell_type": "code",
   "execution_count": 4,
   "id": "f313caa9-9752-4e3e-bd10-509396a8fac9",
   "metadata": {},
   "outputs": [
    {
     "data": {
      "text/html": [
       "<div>\n",
       "<style scoped>\n",
       "    .dataframe tbody tr th:only-of-type {\n",
       "        vertical-align: middle;\n",
       "    }\n",
       "\n",
       "    .dataframe tbody tr th {\n",
       "        vertical-align: top;\n",
       "    }\n",
       "\n",
       "    .dataframe thead th {\n",
       "        text-align: right;\n",
       "    }\n",
       "</style>\n",
       "<table border=\"1\" class=\"dataframe\">\n",
       "  <thead>\n",
       "    <tr style=\"text-align: right;\">\n",
       "      <th></th>\n",
       "      <th>0</th>\n",
       "      <th>1</th>\n",
       "      <th>2</th>\n",
       "      <th>3</th>\n",
       "      <th>4</th>\n",
       "      <th>5</th>\n",
       "      <th>6</th>\n",
       "      <th>7</th>\n",
       "      <th>8</th>\n",
       "      <th>9</th>\n",
       "      <th>...</th>\n",
       "      <th>280</th>\n",
       "      <th>281</th>\n",
       "      <th>282</th>\n",
       "      <th>283</th>\n",
       "      <th>284</th>\n",
       "      <th>285</th>\n",
       "      <th>286</th>\n",
       "      <th>287</th>\n",
       "      <th>288</th>\n",
       "      <th>289</th>\n",
       "    </tr>\n",
       "  </thead>\n",
       "  <tbody>\n",
       "    <tr>\n",
       "      <th>0</th>\n",
       "      <td>0.31831</td>\n",
       "      <td>0.015644</td>\n",
       "      <td>0.010536</td>\n",
       "      <td>0.042117</td>\n",
       "      <td>0.017535</td>\n",
       "      <td>0.034433</td>\n",
       "      <td>0.009973</td>\n",
       "      <td>0.008258</td>\n",
       "      <td>0.012691</td>\n",
       "      <td>0.012026</td>\n",
       "      <td>...</td>\n",
       "      <td>0.016006</td>\n",
       "      <td>0.021341</td>\n",
       "      <td>0.017135</td>\n",
       "      <td>0.018174</td>\n",
       "      <td>0.022102</td>\n",
       "      <td>0.016517</td>\n",
       "      <td>0.017490</td>\n",
       "      <td>0.022149</td>\n",
       "      <td>0.021471</td>\n",
       "      <td>YES</td>\n",
       "    </tr>\n",
       "    <tr>\n",
       "      <th>1</th>\n",
       "      <td>0.31831</td>\n",
       "      <td>0.063213</td>\n",
       "      <td>0.049919</td>\n",
       "      <td>0.044137</td>\n",
       "      <td>0.031334</td>\n",
       "      <td>0.025834</td>\n",
       "      <td>0.001331</td>\n",
       "      <td>0.015558</td>\n",
       "      <td>0.024625</td>\n",
       "      <td>0.016563</td>\n",
       "      <td>...</td>\n",
       "      <td>0.019096</td>\n",
       "      <td>0.033980</td>\n",
       "      <td>0.035784</td>\n",
       "      <td>0.021241</td>\n",
       "      <td>0.035250</td>\n",
       "      <td>0.022237</td>\n",
       "      <td>0.039646</td>\n",
       "      <td>0.024342</td>\n",
       "      <td>0.023165</td>\n",
       "      <td>YES</td>\n",
       "    </tr>\n",
       "    <tr>\n",
       "      <th>2</th>\n",
       "      <td>0.31831</td>\n",
       "      <td>0.028668</td>\n",
       "      <td>0.088893</td>\n",
       "      <td>0.028020</td>\n",
       "      <td>0.045784</td>\n",
       "      <td>0.133713</td>\n",
       "      <td>0.044890</td>\n",
       "      <td>0.072025</td>\n",
       "      <td>0.047966</td>\n",
       "      <td>0.016014</td>\n",
       "      <td>...</td>\n",
       "      <td>0.019219</td>\n",
       "      <td>0.018691</td>\n",
       "      <td>0.016470</td>\n",
       "      <td>0.024290</td>\n",
       "      <td>0.009614</td>\n",
       "      <td>0.031743</td>\n",
       "      <td>0.021006</td>\n",
       "      <td>0.024585</td>\n",
       "      <td>0.009463</td>\n",
       "      <td>YES</td>\n",
       "    </tr>\n",
       "    <tr>\n",
       "      <th>3</th>\n",
       "      <td>0.31831</td>\n",
       "      <td>0.023085</td>\n",
       "      <td>0.007676</td>\n",
       "      <td>0.024351</td>\n",
       "      <td>0.040146</td>\n",
       "      <td>0.051798</td>\n",
       "      <td>0.010815</td>\n",
       "      <td>0.034136</td>\n",
       "      <td>0.021390</td>\n",
       "      <td>0.014092</td>\n",
       "      <td>...</td>\n",
       "      <td>0.008116</td>\n",
       "      <td>0.009317</td>\n",
       "      <td>0.014892</td>\n",
       "      <td>0.009398</td>\n",
       "      <td>0.016637</td>\n",
       "      <td>0.012476</td>\n",
       "      <td>0.015538</td>\n",
       "      <td>0.012200</td>\n",
       "      <td>0.018557</td>\n",
       "      <td>YES</td>\n",
       "    </tr>\n",
       "    <tr>\n",
       "      <th>4</th>\n",
       "      <td>0.31831</td>\n",
       "      <td>0.059796</td>\n",
       "      <td>0.031397</td>\n",
       "      <td>0.031870</td>\n",
       "      <td>0.037461</td>\n",
       "      <td>0.036331</td>\n",
       "      <td>0.009391</td>\n",
       "      <td>0.015493</td>\n",
       "      <td>0.048725</td>\n",
       "      <td>0.028333</td>\n",
       "      <td>...</td>\n",
       "      <td>0.010167</td>\n",
       "      <td>0.021948</td>\n",
       "      <td>0.009159</td>\n",
       "      <td>0.034622</td>\n",
       "      <td>0.008190</td>\n",
       "      <td>0.019209</td>\n",
       "      <td>0.011622</td>\n",
       "      <td>0.021005</td>\n",
       "      <td>0.019137</td>\n",
       "      <td>YES</td>\n",
       "    </tr>\n",
       "  </tbody>\n",
       "</table>\n",
       "<p>5 rows × 290 columns</p>\n",
       "</div>"
      ],
      "text/plain": [
       "       0         1         2         3         4         5         6    \\\n",
       "0  0.31831  0.015644  0.010536  0.042117  0.017535  0.034433  0.009973   \n",
       "1  0.31831  0.063213  0.049919  0.044137  0.031334  0.025834  0.001331   \n",
       "2  0.31831  0.028668  0.088893  0.028020  0.045784  0.133713  0.044890   \n",
       "3  0.31831  0.023085  0.007676  0.024351  0.040146  0.051798  0.010815   \n",
       "4  0.31831  0.059796  0.031397  0.031870  0.037461  0.036331  0.009391   \n",
       "\n",
       "        7         8         9    ...       280       281       282       283  \\\n",
       "0  0.008258  0.012691  0.012026  ...  0.016006  0.021341  0.017135  0.018174   \n",
       "1  0.015558  0.024625  0.016563  ...  0.019096  0.033980  0.035784  0.021241   \n",
       "2  0.072025  0.047966  0.016014  ...  0.019219  0.018691  0.016470  0.024290   \n",
       "3  0.034136  0.021390  0.014092  ...  0.008116  0.009317  0.014892  0.009398   \n",
       "4  0.015493  0.048725  0.028333  ...  0.010167  0.021948  0.009159  0.034622   \n",
       "\n",
       "        284       285       286       287       288  289  \n",
       "0  0.022102  0.016517  0.017490  0.022149  0.021471  YES  \n",
       "1  0.035250  0.022237  0.039646  0.024342  0.023165  YES  \n",
       "2  0.009614  0.031743  0.021006  0.024585  0.009463  YES  \n",
       "3  0.016637  0.012476  0.015538  0.012200  0.018557  YES  \n",
       "4  0.008190  0.019209  0.011622  0.021005  0.019137  YES  \n",
       "\n",
       "[5 rows x 290 columns]"
      ]
     },
     "execution_count": 4,
     "metadata": {},
     "output_type": "execute_result"
    }
   ],
   "source": [
    "# Top 5 records:\n",
    "df.head()"
   ]
  },
  {
   "cell_type": "code",
   "execution_count": 5,
   "id": "ea950b84-85b1-4c5b-80b4-f94076cba7cf",
   "metadata": {},
   "outputs": [
    {
     "data": {
      "text/plain": [
       "(2759, 290)"
      ]
     },
     "execution_count": 5,
     "metadata": {},
     "output_type": "execute_result"
    }
   ],
   "source": [
    "# Finding the number of row and Columns:\n",
    "df.shape"
   ]
  },
  {
   "cell_type": "code",
   "execution_count": 6,
   "id": "0a2c8777-efc6-42e5-aca5-1568adce6297",
   "metadata": {},
   "outputs": [
    {
     "data": {
      "text/plain": [
       "YES    1654\n",
       "NO     1105\n",
       "Name: 289, dtype: int64"
      ]
     },
     "execution_count": 6,
     "metadata": {},
     "output_type": "execute_result"
    }
   ],
   "source": [
    "# Target data:\n",
    "df[289].value_counts()"
   ]
  },
  {
   "cell_type": "code",
   "execution_count": 7,
   "id": "a564b3ed-0edf-4ebb-a7fa-84166b7f9097",
   "metadata": {},
   "outputs": [
    {
     "name": "stdout",
     "output_type": "stream",
     "text": [
      "40.05 % of the patients who has Brain Tumour.\n",
      "59.95 % of the patients who do not have Brain Tumour.\n"
     ]
    }
   ],
   "source": [
    "# To determine how many patients have Brain Tumour and how many do not(Target data):\n",
    "print(round(df[289].value_counts()[1]/len(df) * 100,2), '% of the patients who has Brain Tumour.')\n",
    "print(round(df[289].value_counts()[0]/len(df) * 100,2), '% of the patients who do not have Brain Tumour.')"
   ]
  },
  {
   "cell_type": "code",
   "execution_count": 12,
   "id": "db2b6b1c-9201-49b4-8351-d98e87c8673a",
   "metadata": {},
   "outputs": [
    {
     "data": {
      "image/png": "[encoded data removed]",
      "text/plain": [
       "<Figure size 432x288 with 1 Axes>"
      ]
     },
     "metadata": {
      "needs_background": "light"
     },
     "output_type": "display_data"
    }
   ],
   "source": [
    "# Plotting the target distribution:\n",
    "sns.countplot(x = df[289])\n",
    "plt.title('Class Distributions', fontsize=14)\n",
    "plt.xlabel(\"Target Labels\")\n",
    "plt.show()"
   ]
  },
  {
   "cell_type": "code",
   "execution_count": 13,
   "id": "3e9b738d-f8ea-465c-98fa-e4b54a3f844d",
   "metadata": {},
   "outputs": [],
   "source": [
    "# Shuffling the whole dataset:\n",
    "df = df.sample(frac=1, random_state=0).reset_index(drop=True)"
   ]
  },
  {
   "cell_type": "code",
   "execution_count": 14,
   "id": "4a901295-172c-4ca8-93bc-72805b59b498",
   "metadata": {},
   "outputs": [
    {
     "data": {
      "text/html": [
       "<div>\n",
       "<style scoped>\n",
       "    .dataframe tbody tr th:only-of-type {\n",
       "        vertical-align: middle;\n",
       "    }\n",
       "\n",
       "    .dataframe tbody tr th {\n",
       "        vertical-align: top;\n",
       "    }\n",
       "\n",
       "    .dataframe thead th {\n",
       "        text-align: right;\n",
       "    }\n",
       "</style>\n",
       "<table border=\"1\" class=\"dataframe\">\n",
       "  <thead>\n",
       "    <tr style=\"text-align: right;\">\n",
       "      <th></th>\n",
       "      <th>0</th>\n",
       "      <th>1</th>\n",
       "      <th>2</th>\n",
       "      <th>3</th>\n",
       "      <th>4</th>\n",
       "      <th>5</th>\n",
       "      <th>6</th>\n",
       "      <th>7</th>\n",
       "      <th>8</th>\n",
       "      <th>9</th>\n",
       "      <th>...</th>\n",
       "      <th>280</th>\n",
       "      <th>281</th>\n",
       "      <th>282</th>\n",
       "      <th>283</th>\n",
       "      <th>284</th>\n",
       "      <th>285</th>\n",
       "      <th>286</th>\n",
       "      <th>287</th>\n",
       "      <th>288</th>\n",
       "      <th>289</th>\n",
       "    </tr>\n",
       "  </thead>\n",
       "  <tbody>\n",
       "    <tr>\n",
       "      <th>0</th>\n",
       "      <td>0.31831</td>\n",
       "      <td>0.064067</td>\n",
       "      <td>0.042367</td>\n",
       "      <td>0.005077</td>\n",
       "      <td>0.039959</td>\n",
       "      <td>0.010307</td>\n",
       "      <td>0.027563</td>\n",
       "      <td>0.034909</td>\n",
       "      <td>0.042161</td>\n",
       "      <td>0.018338</td>\n",
       "      <td>...</td>\n",
       "      <td>0.005150</td>\n",
       "      <td>0.013605</td>\n",
       "      <td>0.008290</td>\n",
       "      <td>0.017326</td>\n",
       "      <td>0.006544</td>\n",
       "      <td>0.023263</td>\n",
       "      <td>0.009479</td>\n",
       "      <td>0.023641</td>\n",
       "      <td>0.002712</td>\n",
       "      <td>YES</td>\n",
       "    </tr>\n",
       "    <tr>\n",
       "      <th>1</th>\n",
       "      <td>0.31831</td>\n",
       "      <td>0.014379</td>\n",
       "      <td>0.000807</td>\n",
       "      <td>0.016390</td>\n",
       "      <td>0.022824</td>\n",
       "      <td>0.018037</td>\n",
       "      <td>0.004036</td>\n",
       "      <td>0.010298</td>\n",
       "      <td>0.009965</td>\n",
       "      <td>0.007081</td>\n",
       "      <td>...</td>\n",
       "      <td>0.008874</td>\n",
       "      <td>0.016426</td>\n",
       "      <td>0.012125</td>\n",
       "      <td>0.016484</td>\n",
       "      <td>0.029179</td>\n",
       "      <td>0.023153</td>\n",
       "      <td>0.007061</td>\n",
       "      <td>0.023218</td>\n",
       "      <td>0.014724</td>\n",
       "      <td>YES</td>\n",
       "    </tr>\n",
       "    <tr>\n",
       "      <th>2</th>\n",
       "      <td>0.31831</td>\n",
       "      <td>0.020845</td>\n",
       "      <td>0.006160</td>\n",
       "      <td>0.040001</td>\n",
       "      <td>0.045641</td>\n",
       "      <td>0.021972</td>\n",
       "      <td>0.006688</td>\n",
       "      <td>0.047572</td>\n",
       "      <td>0.016864</td>\n",
       "      <td>0.016121</td>\n",
       "      <td>...</td>\n",
       "      <td>0.021640</td>\n",
       "      <td>0.003987</td>\n",
       "      <td>0.027176</td>\n",
       "      <td>0.002590</td>\n",
       "      <td>0.020176</td>\n",
       "      <td>0.008430</td>\n",
       "      <td>0.024794</td>\n",
       "      <td>0.013997</td>\n",
       "      <td>0.015981</td>\n",
       "      <td>NO</td>\n",
       "    </tr>\n",
       "    <tr>\n",
       "      <th>3</th>\n",
       "      <td>0.31831</td>\n",
       "      <td>0.040331</td>\n",
       "      <td>0.049170</td>\n",
       "      <td>0.042343</td>\n",
       "      <td>0.064064</td>\n",
       "      <td>0.021439</td>\n",
       "      <td>0.017889</td>\n",
       "      <td>0.038743</td>\n",
       "      <td>0.045333</td>\n",
       "      <td>0.035196</td>\n",
       "      <td>...</td>\n",
       "      <td>0.018406</td>\n",
       "      <td>0.020172</td>\n",
       "      <td>0.023955</td>\n",
       "      <td>0.027186</td>\n",
       "      <td>0.020050</td>\n",
       "      <td>0.004814</td>\n",
       "      <td>0.008993</td>\n",
       "      <td>0.004951</td>\n",
       "      <td>0.011462</td>\n",
       "      <td>NO</td>\n",
       "    </tr>\n",
       "    <tr>\n",
       "      <th>4</th>\n",
       "      <td>0.31831</td>\n",
       "      <td>0.078757</td>\n",
       "      <td>0.016181</td>\n",
       "      <td>0.043099</td>\n",
       "      <td>0.055235</td>\n",
       "      <td>0.023934</td>\n",
       "      <td>0.029088</td>\n",
       "      <td>0.021532</td>\n",
       "      <td>0.025430</td>\n",
       "      <td>0.034184</td>\n",
       "      <td>...</td>\n",
       "      <td>0.020074</td>\n",
       "      <td>0.030983</td>\n",
       "      <td>0.022591</td>\n",
       "      <td>0.034327</td>\n",
       "      <td>0.017488</td>\n",
       "      <td>0.019548</td>\n",
       "      <td>0.035094</td>\n",
       "      <td>0.026571</td>\n",
       "      <td>0.017945</td>\n",
       "      <td>YES</td>\n",
       "    </tr>\n",
       "  </tbody>\n",
       "</table>\n",
       "<p>5 rows × 290 columns</p>\n",
       "</div>"
      ],
      "text/plain": [
       "       0         1         2         3         4         5         6    \\\n",
       "0  0.31831  0.064067  0.042367  0.005077  0.039959  0.010307  0.027563   \n",
       "1  0.31831  0.014379  0.000807  0.016390  0.022824  0.018037  0.004036   \n",
       "2  0.31831  0.020845  0.006160  0.040001  0.045641  0.021972  0.006688   \n",
       "3  0.31831  0.040331  0.049170  0.042343  0.064064  0.021439  0.017889   \n",
       "4  0.31831  0.078757  0.016181  0.043099  0.055235  0.023934  0.029088   \n",
       "\n",
       "        7         8         9    ...       280       281       282       283  \\\n",
       "0  0.034909  0.042161  0.018338  ...  0.005150  0.013605  0.008290  0.017326   \n",
       "1  0.010298  0.009965  0.007081  ...  0.008874  0.016426  0.012125  0.016484   \n",
       "2  0.047572  0.016864  0.016121  ...  0.021640  0.003987  0.027176  0.002590   \n",
       "3  0.038743  0.045333  0.035196  ...  0.018406  0.020172  0.023955  0.027186   \n",
       "4  0.021532  0.025430  0.034184  ...  0.020074  0.030983  0.022591  0.034327   \n",
       "\n",
       "        284       285       286       287       288  289  \n",
       "0  0.006544  0.023263  0.009479  0.023641  0.002712  YES  \n",
       "1  0.029179  0.023153  0.007061  0.023218  0.014724  YES  \n",
       "2  0.020176  0.008430  0.024794  0.013997  0.015981   NO  \n",
       "3  0.020050  0.004814  0.008993  0.004951  0.011462   NO  \n",
       "4  0.017488  0.019548  0.035094  0.026571  0.017945  YES  \n",
       "\n",
       "[5 rows x 290 columns]"
      ]
     },
     "execution_count": 14,
     "metadata": {},
     "output_type": "execute_result"
    }
   ],
   "source": [
    "# After shuffling:\n",
    "df.head()"
   ]
  },
  {
   "cell_type": "code",
   "execution_count": 15,
   "id": "251091d5-ce47-4ef2-aeaa-8ecc324d72de",
   "metadata": {},
   "outputs": [],
   "source": [
    "# Converting categorical values of Target feature into numerical:\n",
    "df[289].replace(['YES','NO'], [1,0], inplace=True)"
   ]
  },
  {
   "cell_type": "code",
   "execution_count": 16,
   "id": "951da750-1119-4a23-b8fe-eb75acda2ec6",
   "metadata": {},
   "outputs": [
    {
     "data": {
      "text/html": [
       "<div>\n",
       "<style scoped>\n",
       "    .dataframe tbody tr th:only-of-type {\n",
       "        vertical-align: middle;\n",
       "    }\n",
       "\n",
       "    .dataframe tbody tr th {\n",
       "        vertical-align: top;\n",
       "    }\n",
       "\n",
       "    .dataframe thead th {\n",
       "        text-align: right;\n",
       "    }\n",
       "</style>\n",
       "<table border=\"1\" class=\"dataframe\">\n",
       "  <thead>\n",
       "    <tr style=\"text-align: right;\">\n",
       "      <th></th>\n",
       "      <th>0</th>\n",
       "      <th>1</th>\n",
       "      <th>2</th>\n",
       "      <th>3</th>\n",
       "      <th>4</th>\n",
       "      <th>5</th>\n",
       "      <th>6</th>\n",
       "      <th>7</th>\n",
       "      <th>8</th>\n",
       "      <th>9</th>\n",
       "      <th>...</th>\n",
       "      <th>280</th>\n",
       "      <th>281</th>\n",
       "      <th>282</th>\n",
       "      <th>283</th>\n",
       "      <th>284</th>\n",
       "      <th>285</th>\n",
       "      <th>286</th>\n",
       "      <th>287</th>\n",
       "      <th>288</th>\n",
       "      <th>289</th>\n",
       "    </tr>\n",
       "  </thead>\n",
       "  <tbody>\n",
       "    <tr>\n",
       "      <th>0</th>\n",
       "      <td>0.31831</td>\n",
       "      <td>0.064067</td>\n",
       "      <td>0.042367</td>\n",
       "      <td>0.005077</td>\n",
       "      <td>0.039959</td>\n",
       "      <td>0.010307</td>\n",
       "      <td>0.027563</td>\n",
       "      <td>0.034909</td>\n",
       "      <td>0.042161</td>\n",
       "      <td>0.018338</td>\n",
       "      <td>...</td>\n",
       "      <td>0.005150</td>\n",
       "      <td>0.013605</td>\n",
       "      <td>0.008290</td>\n",
       "      <td>0.017326</td>\n",
       "      <td>0.006544</td>\n",
       "      <td>0.023263</td>\n",
       "      <td>0.009479</td>\n",
       "      <td>0.023641</td>\n",
       "      <td>0.002712</td>\n",
       "      <td>1</td>\n",
       "    </tr>\n",
       "    <tr>\n",
       "      <th>1</th>\n",
       "      <td>0.31831</td>\n",
       "      <td>0.014379</td>\n",
       "      <td>0.000807</td>\n",
       "      <td>0.016390</td>\n",
       "      <td>0.022824</td>\n",
       "      <td>0.018037</td>\n",
       "      <td>0.004036</td>\n",
       "      <td>0.010298</td>\n",
       "      <td>0.009965</td>\n",
       "      <td>0.007081</td>\n",
       "      <td>...</td>\n",
       "      <td>0.008874</td>\n",
       "      <td>0.016426</td>\n",
       "      <td>0.012125</td>\n",
       "      <td>0.016484</td>\n",
       "      <td>0.029179</td>\n",
       "      <td>0.023153</td>\n",
       "      <td>0.007061</td>\n",
       "      <td>0.023218</td>\n",
       "      <td>0.014724</td>\n",
       "      <td>1</td>\n",
       "    </tr>\n",
       "    <tr>\n",
       "      <th>2</th>\n",
       "      <td>0.31831</td>\n",
       "      <td>0.020845</td>\n",
       "      <td>0.006160</td>\n",
       "      <td>0.040001</td>\n",
       "      <td>0.045641</td>\n",
       "      <td>0.021972</td>\n",
       "      <td>0.006688</td>\n",
       "      <td>0.047572</td>\n",
       "      <td>0.016864</td>\n",
       "      <td>0.016121</td>\n",
       "      <td>...</td>\n",
       "      <td>0.021640</td>\n",
       "      <td>0.003987</td>\n",
       "      <td>0.027176</td>\n",
       "      <td>0.002590</td>\n",
       "      <td>0.020176</td>\n",
       "      <td>0.008430</td>\n",
       "      <td>0.024794</td>\n",
       "      <td>0.013997</td>\n",
       "      <td>0.015981</td>\n",
       "      <td>0</td>\n",
       "    </tr>\n",
       "    <tr>\n",
       "      <th>3</th>\n",
       "      <td>0.31831</td>\n",
       "      <td>0.040331</td>\n",
       "      <td>0.049170</td>\n",
       "      <td>0.042343</td>\n",
       "      <td>0.064064</td>\n",
       "      <td>0.021439</td>\n",
       "      <td>0.017889</td>\n",
       "      <td>0.038743</td>\n",
       "      <td>0.045333</td>\n",
       "      <td>0.035196</td>\n",
       "      <td>...</td>\n",
       "      <td>0.018406</td>\n",
       "      <td>0.020172</td>\n",
       "      <td>0.023955</td>\n",
       "      <td>0.027186</td>\n",
       "      <td>0.020050</td>\n",
       "      <td>0.004814</td>\n",
       "      <td>0.008993</td>\n",
       "      <td>0.004951</td>\n",
       "      <td>0.011462</td>\n",
       "      <td>0</td>\n",
       "    </tr>\n",
       "    <tr>\n",
       "      <th>4</th>\n",
       "      <td>0.31831</td>\n",
       "      <td>0.078757</td>\n",
       "      <td>0.016181</td>\n",
       "      <td>0.043099</td>\n",
       "      <td>0.055235</td>\n",
       "      <td>0.023934</td>\n",
       "      <td>0.029088</td>\n",
       "      <td>0.021532</td>\n",
       "      <td>0.025430</td>\n",
       "      <td>0.034184</td>\n",
       "      <td>...</td>\n",
       "      <td>0.020074</td>\n",
       "      <td>0.030983</td>\n",
       "      <td>0.022591</td>\n",
       "      <td>0.034327</td>\n",
       "      <td>0.017488</td>\n",
       "      <td>0.019548</td>\n",
       "      <td>0.035094</td>\n",
       "      <td>0.026571</td>\n",
       "      <td>0.017945</td>\n",
       "      <td>1</td>\n",
       "    </tr>\n",
       "  </tbody>\n",
       "</table>\n",
       "<p>5 rows × 290 columns</p>\n",
       "</div>"
      ],
      "text/plain": [
       "       0         1         2         3         4         5         6    \\\n",
       "0  0.31831  0.064067  0.042367  0.005077  0.039959  0.010307  0.027563   \n",
       "1  0.31831  0.014379  0.000807  0.016390  0.022824  0.018037  0.004036   \n",
       "2  0.31831  0.020845  0.006160  0.040001  0.045641  0.021972  0.006688   \n",
       "3  0.31831  0.040331  0.049170  0.042343  0.064064  0.021439  0.017889   \n",
       "4  0.31831  0.078757  0.016181  0.043099  0.055235  0.023934  0.029088   \n",
       "\n",
       "        7         8         9    ...       280       281       282       283  \\\n",
       "0  0.034909  0.042161  0.018338  ...  0.005150  0.013605  0.008290  0.017326   \n",
       "1  0.010298  0.009965  0.007081  ...  0.008874  0.016426  0.012125  0.016484   \n",
       "2  0.047572  0.016864  0.016121  ...  0.021640  0.003987  0.027176  0.002590   \n",
       "3  0.038743  0.045333  0.035196  ...  0.018406  0.020172  0.023955  0.027186   \n",
       "4  0.021532  0.025430  0.034184  ...  0.020074  0.030983  0.022591  0.034327   \n",
       "\n",
       "        284       285       286       287       288  289  \n",
       "0  0.006544  0.023263  0.009479  0.023641  0.002712    1  \n",
       "1  0.029179  0.023153  0.007061  0.023218  0.014724    1  \n",
       "2  0.020176  0.008430  0.024794  0.013997  0.015981    0  \n",
       "3  0.020050  0.004814  0.008993  0.004951  0.011462    0  \n",
       "4  0.017488  0.019548  0.035094  0.026571  0.017945    1  \n",
       "\n",
       "[5 rows x 290 columns]"
      ]
     },
     "execution_count": 16,
     "metadata": {},
     "output_type": "execute_result"
    }
   ],
   "source": [
    "# After Converting Target feature to numerical:\n",
    "df.head()"
   ]
  },
  {
   "cell_type": "code",
   "execution_count": 17,
   "id": "e22a3f3a-526e-4db2-988d-2f665d9ae5b9",
   "metadata": {},
   "outputs": [],
   "source": [
    "# Splitting into Independent and Dependent features:\n",
    "X = df.iloc[:, :-1]\n",
    "y = df.iloc[:, -1]"
   ]
  },
  {
   "cell_type": "code",
   "execution_count": 18,
   "id": "b1b0ed54-674f-43b2-9986-84b49700a562",
   "metadata": {},
   "outputs": [],
   "source": [
    "# Train-Test spilt:\n",
    "x_train, x_test, y_train, y_test = train_test_split(X, y, test_size=0.2, random_state=0) "
   ]
  },
  {
   "cell_type": "code",
   "execution_count": 19,
   "id": "c013fdde-517b-4030-a5ef-05f11150803c",
   "metadata": {},
   "outputs": [
    {
     "name": "stdout",
     "output_type": "stream",
     "text": [
      "(2207, 289)\n",
      "(552, 289)\n"
     ]
    }
   ],
   "source": [
    "# Printing the shape after train-test split:\n",
    "print(x_train.shape)\n",
    "print(x_test.shape)"
   ]
  },
  {
   "cell_type": "markdown",
   "id": "ba665079-5b1d-4b78-80c4-c3f7aa12b3d6",
   "metadata": {},
   "source": [
    "## XGBoost Classifier:"
   ]
  },
  {
   "cell_type": "code",
   "execution_count": 20,
   "id": "195c5081-1207-459c-97f3-2397d9b7b908",
   "metadata": {},
   "outputs": [],
   "source": [
    "# Creating an Object of XGBoost Classifier:\n",
    "xgb = XGBClassifier()"
   ]
  },
  {
   "cell_type": "code",
   "execution_count": 22,
   "id": "579cb718-978e-40f4-a990-7eebb2f90f58",
   "metadata": {
    "tags": []
   },
   "outputs": [
    {
     "name": "stdout",
     "output_type": "stream",
     "text": [
      "[11:51:09] WARNING: C:/Users/Administrator/workspace/xgboost-win64_release_1.5.1/src/learner.cc:1115: Starting in XGBoost 1.3.0, the default evaluation metric used with the objective 'binary:logistic' was changed from 'error' to 'logloss'. Explicitly set eval_metric if you'd like to restore the old behavior.\n"
     ]
    },
    {
     "data": {
      "text/plain": [
       "XGBClassifier(base_score=0.5, booster='gbtree', colsample_bylevel=1,\n",
       "              colsample_bynode=1, colsample_bytree=1, enable_categorical=False,\n",
       "              gamma=0, gpu_id=-1, importance_type=None,\n",
       "              interaction_constraints='', learning_rate=0.300000012,\n",
       "              max_delta_step=0, max_depth=6, min_child_weight=1, missing=nan,\n",
       "              monotone_constraints='()', n_estimators=100, n_jobs=12,\n",
       "              num_parallel_tree=1, predictor='auto', random_state=0,\n",
       "              reg_alpha=0, reg_lambda=1, scale_pos_weight=1, subsample=1,\n",
       "              tree_method='exact', validate_parameters=1, verbosity=None)"
      ]
     },
     "execution_count": 22,
     "metadata": {},
     "output_type": "execute_result"
    }
   ],
   "source": [
    "# Fitting the Training data:\n",
    "xgb.fit(x_train, y_train)"
   ]
  },
  {
   "cell_type": "code",
   "execution_count": 23,
   "id": "b095ef56-e76c-4927-acb3-30921933e364",
   "metadata": {},
   "outputs": [],
   "source": [
    "# Predicting the test data:\n",
    "y_pred = xgb.predict(x_test)"
   ]
  },
  {
   "cell_type": "markdown",
   "id": "ba7a5cc7-c37f-4db8-91a3-4aa9f9bd35ae",
   "metadata": {},
   "source": [
    "### Results:"
   ]
  },
  {
   "cell_type": "code",
   "execution_count": 24,
   "id": "04a4c421-10fe-4551-9b82-f96ded800de1",
   "metadata": {},
   "outputs": [
    {
     "name": "stdout",
     "output_type": "stream",
     "text": [
      "Accuracy : 97.0 %\n"
     ]
    }
   ],
   "source": [
    "print(\"Accuracy :\", round(accuracy_score(y_test, y_pred), 2)*100, \"%\")"
   ]
  },
  {
   "cell_type": "code",
   "execution_count": 25,
   "id": "e29ca147-876d-439c-a267-d59a384ed3f3",
   "metadata": {},
   "outputs": [
    {
     "name": "stdout",
     "output_type": "stream",
     "text": [
      "Precision : 98.0 %\n"
     ]
    }
   ],
   "source": [
    "print(\"Precision :\", round(precision_score(y_test, y_pred), 2)*100, \"%\")"
   ]
  },
  {
   "cell_type": "code",
   "execution_count": 26,
   "id": "e50833c4-3cdc-47e6-86b5-3c1513cc7851",
   "metadata": {},
   "outputs": [
    {
     "name": "stdout",
     "output_type": "stream",
     "text": [
      "Recall : 97.0 %\n"
     ]
    }
   ],
   "source": [
    "print(\"Recall :\", round(recall_score(y_test, y_pred), 2)*100, \"%\")"
   ]
  },
  {
   "cell_type": "code",
   "execution_count": 27,
   "id": "908fc02d-def5-4699-8b8a-2a17295e7006",
   "metadata": {
    "tags": []
   },
   "outputs": [
    {
     "name": "stdout",
     "output_type": "stream",
     "text": [
      "f1_Score : 98.0 %\n"
     ]
    }
   ],
   "source": [
    "print(\"f1_Score :\", round(f1_score(y_test, y_pred), 2)*100, \"%\")"
   ]
  },
  {
   "cell_type": "code",
   "execution_count": 28,
   "id": "f0e0152e-527d-4e2b-975d-6a9a330f7f4d",
   "metadata": {},
   "outputs": [
    {
     "name": "stdout",
     "output_type": "stream",
     "text": [
      "Confusion Matrix :\n",
      "[[190   7]\n",
      " [  9 346]]\n"
     ]
    }
   ],
   "source": [
    "print(\"Confusion Matrix :\")\n",
    "print(confusion_matrix(y_test, y_pred))"
   ]
  },
  {
   "cell_type": "code",
   "execution_count": 29,
   "id": "602781b1-6443-4866-ba6b-6ab1eea45924",
   "metadata": {},
   "outputs": [
    {
     "name": "stdout",
     "output_type": "stream",
     "text": [
      "Classification Report :\n",
      "              precision    recall  f1-score   support\n",
      "\n",
      "           0       0.95      0.96      0.96       197\n",
      "           1       0.98      0.97      0.98       355\n",
      "\n",
      "    accuracy                           0.97       552\n",
      "   macro avg       0.97      0.97      0.97       552\n",
      "weighted avg       0.97      0.97      0.97       552\n",
      "\n"
     ]
    }
   ],
   "source": [
    "print(\"Classification Report :\")\n",
    "print(classification_report(y_test, y_pred))"
   ]
  },
  {
   "cell_type": "code",
   "execution_count": null,
   "id": "2dbade9d-7fa2-413c-903b-189dedab2d81",
   "metadata": {
    "jupyter": {
     "source_hidden": true
    },
    "tags": []
   },
   "outputs": [],
   "source": []
  }
 ],
 "metadata": {
  "kernelspec": {
   "display_name": "Python 3 (ipykernel)",
   "language": "python",
   "name": "python3"
  },
  "language_info": {
   "codemirror_mode": {
    "name": "ipython",
    "version": 3
   },
   "file_extension": ".py",
   "mimetype": "text/x-python",
   "name": "python",
   "nbconvert_exporter": "python",
   "pygments_lexer": "ipython3",
   "version": "3.9.12"
  }
 },
 "nbformat": 4,
 "nbformat_minor": 5
}
