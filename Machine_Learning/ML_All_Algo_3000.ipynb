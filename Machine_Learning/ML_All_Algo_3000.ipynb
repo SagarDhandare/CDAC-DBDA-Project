{
 "cells": [
  {
   "cell_type": "markdown",
   "id": "a6a70ed8-0a13-4b37-850d-19be9ff65e4d",
   "metadata": {},
   "source": [
    "## Brain Tumour Detection using Machine Learning Algorithms like Random Forest Classifier, Gradient Boosting Classifier, XGBoost Classifier, Support Vector Machine and comparing their predictions and repeatibility:"
   ]
  },
  {
   "cell_type": "code",
   "execution_count": 2,
   "id": "dfc07290-c836-4d22-a7bc-dea29bfb052d",
   "metadata": {},
   "outputs": [],
   "source": [
    "# Importing required Libraries:\n",
    "import pandas as pd\n",
    "import numpy as np\n",
    "import matplotlib.pyplot as plt\n",
    "import seaborn as sns\n",
    "from sklearn.model_selection import train_test_split\n",
    "from xgboost import XGBClassifier\n",
    "from sklearn.ensemble import RandomForestClassifier, GradientBoostingClassifier\n",
    "from sklearn.svm import SVC\n",
    "from sklearn.metrics import accuracy_score, confusion_matrix, classification_report, precision_score, recall_score, f1_score\n",
    "from sklearn.model_selection import cross_val_predict\n",
    "from sklearn.model_selection import GridSearchCV"
   ]
  },
  {
   "cell_type": "code",
   "execution_count": 3,
   "id": "e18db99c-bed7-4f62-994e-75cfeca6c90c",
   "metadata": {},
   "outputs": [],
   "source": [
    "# Reading the dataset:\n",
    "df = pd.read_csv('Zernike_Moments_YN_3000.csv', header=None)"
   ]
  },
  {
   "cell_type": "code",
   "execution_count": 4,
   "id": "f313caa9-9752-4e3e-bd10-509396a8fac9",
   "metadata": {},
   "outputs": [
    {
     "data": {
      "text/html": [
       "<div>\n",
       "<style scoped>\n",
       "    .dataframe tbody tr th:only-of-type {\n",
       "        vertical-align: middle;\n",
       "    }\n",
       "\n",
       "    .dataframe tbody tr th {\n",
       "        vertical-align: top;\n",
       "    }\n",
       "\n",
       "    .dataframe thead th {\n",
       "        text-align: right;\n",
       "    }\n",
       "</style>\n",
       "<table border=\"1\" class=\"dataframe\">\n",
       "  <thead>\n",
       "    <tr style=\"text-align: right;\">\n",
       "      <th></th>\n",
       "      <th>0</th>\n",
       "      <th>1</th>\n",
       "      <th>2</th>\n",
       "      <th>3</th>\n",
       "      <th>4</th>\n",
       "      <th>5</th>\n",
       "      <th>6</th>\n",
       "      <th>7</th>\n",
       "      <th>8</th>\n",
       "      <th>9</th>\n",
       "      <th>...</th>\n",
       "      <th>280</th>\n",
       "      <th>281</th>\n",
       "      <th>282</th>\n",
       "      <th>283</th>\n",
       "      <th>284</th>\n",
       "      <th>285</th>\n",
       "      <th>286</th>\n",
       "      <th>287</th>\n",
       "      <th>288</th>\n",
       "      <th>289</th>\n",
       "    </tr>\n",
       "  </thead>\n",
       "  <tbody>\n",
       "    <tr>\n",
       "      <th>0</th>\n",
       "      <td>0.31831</td>\n",
       "      <td>0.015644</td>\n",
       "      <td>0.010536</td>\n",
       "      <td>0.042117</td>\n",
       "      <td>0.017535</td>\n",
       "      <td>0.034433</td>\n",
       "      <td>0.009973</td>\n",
       "      <td>0.008258</td>\n",
       "      <td>0.012691</td>\n",
       "      <td>0.012026</td>\n",
       "      <td>...</td>\n",
       "      <td>0.016006</td>\n",
       "      <td>0.021341</td>\n",
       "      <td>0.017135</td>\n",
       "      <td>0.018174</td>\n",
       "      <td>0.022102</td>\n",
       "      <td>0.016517</td>\n",
       "      <td>0.017490</td>\n",
       "      <td>0.022149</td>\n",
       "      <td>0.021471</td>\n",
       "      <td>YES</td>\n",
       "    </tr>\n",
       "    <tr>\n",
       "      <th>1</th>\n",
       "      <td>0.31831</td>\n",
       "      <td>0.063213</td>\n",
       "      <td>0.049919</td>\n",
       "      <td>0.044137</td>\n",
       "      <td>0.031334</td>\n",
       "      <td>0.025834</td>\n",
       "      <td>0.001331</td>\n",
       "      <td>0.015558</td>\n",
       "      <td>0.024625</td>\n",
       "      <td>0.016563</td>\n",
       "      <td>...</td>\n",
       "      <td>0.019096</td>\n",
       "      <td>0.033980</td>\n",
       "      <td>0.035784</td>\n",
       "      <td>0.021241</td>\n",
       "      <td>0.035250</td>\n",
       "      <td>0.022237</td>\n",
       "      <td>0.039646</td>\n",
       "      <td>0.024342</td>\n",
       "      <td>0.023165</td>\n",
       "      <td>YES</td>\n",
       "    </tr>\n",
       "    <tr>\n",
       "      <th>2</th>\n",
       "      <td>0.31831</td>\n",
       "      <td>0.028668</td>\n",
       "      <td>0.088893</td>\n",
       "      <td>0.028020</td>\n",
       "      <td>0.045784</td>\n",
       "      <td>0.133713</td>\n",
       "      <td>0.044890</td>\n",
       "      <td>0.072025</td>\n",
       "      <td>0.047966</td>\n",
       "      <td>0.016014</td>\n",
       "      <td>...</td>\n",
       "      <td>0.019219</td>\n",
       "      <td>0.018691</td>\n",
       "      <td>0.016470</td>\n",
       "      <td>0.024290</td>\n",
       "      <td>0.009614</td>\n",
       "      <td>0.031743</td>\n",
       "      <td>0.021006</td>\n",
       "      <td>0.024585</td>\n",
       "      <td>0.009463</td>\n",
       "      <td>YES</td>\n",
       "    </tr>\n",
       "    <tr>\n",
       "      <th>3</th>\n",
       "      <td>0.31831</td>\n",
       "      <td>0.023085</td>\n",
       "      <td>0.007676</td>\n",
       "      <td>0.024351</td>\n",
       "      <td>0.040146</td>\n",
       "      <td>0.051798</td>\n",
       "      <td>0.010815</td>\n",
       "      <td>0.034136</td>\n",
       "      <td>0.021390</td>\n",
       "      <td>0.014092</td>\n",
       "      <td>...</td>\n",
       "      <td>0.008116</td>\n",
       "      <td>0.009317</td>\n",
       "      <td>0.014892</td>\n",
       "      <td>0.009398</td>\n",
       "      <td>0.016637</td>\n",
       "      <td>0.012476</td>\n",
       "      <td>0.015538</td>\n",
       "      <td>0.012200</td>\n",
       "      <td>0.018557</td>\n",
       "      <td>YES</td>\n",
       "    </tr>\n",
       "    <tr>\n",
       "      <th>4</th>\n",
       "      <td>0.31831</td>\n",
       "      <td>0.059796</td>\n",
       "      <td>0.031397</td>\n",
       "      <td>0.031870</td>\n",
       "      <td>0.037461</td>\n",
       "      <td>0.036331</td>\n",
       "      <td>0.009391</td>\n",
       "      <td>0.015493</td>\n",
       "      <td>0.048725</td>\n",
       "      <td>0.028333</td>\n",
       "      <td>...</td>\n",
       "      <td>0.010167</td>\n",
       "      <td>0.021948</td>\n",
       "      <td>0.009159</td>\n",
       "      <td>0.034622</td>\n",
       "      <td>0.008190</td>\n",
       "      <td>0.019209</td>\n",
       "      <td>0.011622</td>\n",
       "      <td>0.021005</td>\n",
       "      <td>0.019137</td>\n",
       "      <td>YES</td>\n",
       "    </tr>\n",
       "  </tbody>\n",
       "</table>\n",
       "<p>5 rows × 290 columns</p>\n",
       "</div>"
      ],
      "text/plain": [
       "       0         1         2         3         4         5         6    \\\n",
       "0  0.31831  0.015644  0.010536  0.042117  0.017535  0.034433  0.009973   \n",
       "1  0.31831  0.063213  0.049919  0.044137  0.031334  0.025834  0.001331   \n",
       "2  0.31831  0.028668  0.088893  0.028020  0.045784  0.133713  0.044890   \n",
       "3  0.31831  0.023085  0.007676  0.024351  0.040146  0.051798  0.010815   \n",
       "4  0.31831  0.059796  0.031397  0.031870  0.037461  0.036331  0.009391   \n",
       "\n",
       "        7         8         9    ...       280       281       282       283  \\\n",
       "0  0.008258  0.012691  0.012026  ...  0.016006  0.021341  0.017135  0.018174   \n",
       "1  0.015558  0.024625  0.016563  ...  0.019096  0.033980  0.035784  0.021241   \n",
       "2  0.072025  0.047966  0.016014  ...  0.019219  0.018691  0.016470  0.024290   \n",
       "3  0.034136  0.021390  0.014092  ...  0.008116  0.009317  0.014892  0.009398   \n",
       "4  0.015493  0.048725  0.028333  ...  0.010167  0.021948  0.009159  0.034622   \n",
       "\n",
       "        284       285       286       287       288  289  \n",
       "0  0.022102  0.016517  0.017490  0.022149  0.021471  YES  \n",
       "1  0.035250  0.022237  0.039646  0.024342  0.023165  YES  \n",
       "2  0.009614  0.031743  0.021006  0.024585  0.009463  YES  \n",
       "3  0.016637  0.012476  0.015538  0.012200  0.018557  YES  \n",
       "4  0.008190  0.019209  0.011622  0.021005  0.019137  YES  \n",
       "\n",
       "[5 rows x 290 columns]"
      ]
     },
     "execution_count": 4,
     "metadata": {},
     "output_type": "execute_result"
    }
   ],
   "source": [
    "# Top 5 records:\n",
    "df.head()"
   ]
  },
  {
   "cell_type": "code",
   "execution_count": 5,
   "id": "ea950b84-85b1-4c5b-80b4-f94076cba7cf",
   "metadata": {},
   "outputs": [
    {
     "data": {
      "text/plain": [
       "(2759, 290)"
      ]
     },
     "execution_count": 5,
     "metadata": {},
     "output_type": "execute_result"
    }
   ],
   "source": [
    "# Finding the number of row and Columns:\n",
    "df.shape"
   ]
  },
  {
   "cell_type": "code",
   "execution_count": 6,
   "id": "0a2c8777-efc6-42e5-aca5-1568adce6297",
   "metadata": {},
   "outputs": [
    {
     "data": {
      "text/plain": [
       "YES    1654\n",
       "NO     1105\n",
       "Name: 289, dtype: int64"
      ]
     },
     "execution_count": 6,
     "metadata": {},
     "output_type": "execute_result"
    }
   ],
   "source": [
    "# Target data:\n",
    "df[289].value_counts()"
   ]
  },
  {
   "cell_type": "code",
   "execution_count": 7,
   "id": "a564b3ed-0edf-4ebb-a7fa-84166b7f9097",
   "metadata": {},
   "outputs": [
    {
     "name": "stdout",
     "output_type": "stream",
     "text": [
      "40.05 % of the patients who has Brain Tumour.\n",
      "59.95 % of the patients who do not have Brain Tumour.\n"
     ]
    }
   ],
   "source": [
    "# To determine how many patients have Brain Tumour and how many do not(Target data):\n",
    "print(round(df[289].value_counts()[1]/len(df) * 100,2), '% of the patients who has Brain Tumour.')\n",
    "print(round(df[289].value_counts()[0]/len(df) * 100,2), '% of the patients who do not have Brain Tumour.')"
   ]
  },
  {
   "cell_type": "code",
   "execution_count": 8,
   "id": "db2b6b1c-9201-49b4-8351-d98e87c8673a",
   "metadata": {},
   "outputs": [
    {
     "data": {
      "image/png": "[encoded data removed]",
      "text/plain": [
       "<Figure size 432x288 with 1 Axes>"
      ]
     },
     "metadata": {
      "needs_background": "light"
     },
     "output_type": "display_data"
    }
   ],
   "source": [
    "# Plotting the target distribution:\n",
    "sns.countplot(x = df[289])\n",
    "plt.title('Class Distributions', fontsize=14)\n",
    "plt.xlabel(\"Target Labels\")\n",
    "plt.show()"
   ]
  },
  {
   "cell_type": "code",
   "execution_count": 9,
   "id": "3e9b738d-f8ea-465c-98fa-e4b54a3f844d",
   "metadata": {},
   "outputs": [],
   "source": [
    "# Shuffling the whole dataset:\n",
    "df = df.sample(frac=1, random_state=0).reset_index(drop=True)"
   ]
  },
  {
   "cell_type": "code",
   "execution_count": 10,
   "id": "4a901295-172c-4ca8-93bc-72805b59b498",
   "metadata": {},
   "outputs": [
    {
     "data": {
      "text/html": [
       "<div>\n",
       "<style scoped>\n",
       "    .dataframe tbody tr th:only-of-type {\n",
       "        vertical-align: middle;\n",
       "    }\n",
       "\n",
       "    .dataframe tbody tr th {\n",
       "        vertical-align: top;\n",
       "    }\n",
       "\n",
       "    .dataframe thead th {\n",
       "        text-align: right;\n",
       "    }\n",
       "</style>\n",
       "<table border=\"1\" class=\"dataframe\">\n",
       "  <thead>\n",
       "    <tr style=\"text-align: right;\">\n",
       "      <th></th>\n",
       "      <th>0</th>\n",
       "      <th>1</th>\n",
       "      <th>2</th>\n",
       "      <th>3</th>\n",
       "      <th>4</th>\n",
       "      <th>5</th>\n",
       "      <th>6</th>\n",
       "      <th>7</th>\n",
       "      <th>8</th>\n",
       "      <th>9</th>\n",
       "      <th>...</th>\n",
       "      <th>280</th>\n",
       "      <th>281</th>\n",
       "      <th>282</th>\n",
       "      <th>283</th>\n",
       "      <th>284</th>\n",
       "      <th>285</th>\n",
       "      <th>286</th>\n",
       "      <th>287</th>\n",
       "      <th>288</th>\n",
       "      <th>289</th>\n",
       "    </tr>\n",
       "  </thead>\n",
       "  <tbody>\n",
       "    <tr>\n",
       "      <th>0</th>\n",
       "      <td>0.31831</td>\n",
       "      <td>0.065317</td>\n",
       "      <td>0.070163</td>\n",
       "      <td>0.058755</td>\n",
       "      <td>0.081478</td>\n",
       "      <td>0.015434</td>\n",
       "      <td>0.014855</td>\n",
       "      <td>0.077669</td>\n",
       "      <td>0.015013</td>\n",
       "      <td>0.027106</td>\n",
       "      <td>...</td>\n",
       "      <td>0.007292</td>\n",
       "      <td>0.007305</td>\n",
       "      <td>0.020311</td>\n",
       "      <td>0.001750</td>\n",
       "      <td>0.007052</td>\n",
       "      <td>0.006972</td>\n",
       "      <td>0.024591</td>\n",
       "      <td>0.010364</td>\n",
       "      <td>0.021926</td>\n",
       "      <td>NO</td>\n",
       "    </tr>\n",
       "    <tr>\n",
       "      <th>1</th>\n",
       "      <td>0.31831</td>\n",
       "      <td>0.025486</td>\n",
       "      <td>0.030745</td>\n",
       "      <td>0.037692</td>\n",
       "      <td>0.010174</td>\n",
       "      <td>0.024769</td>\n",
       "      <td>0.034362</td>\n",
       "      <td>0.031078</td>\n",
       "      <td>0.034066</td>\n",
       "      <td>0.027778</td>\n",
       "      <td>...</td>\n",
       "      <td>0.004849</td>\n",
       "      <td>0.024893</td>\n",
       "      <td>0.022014</td>\n",
       "      <td>0.010148</td>\n",
       "      <td>0.036688</td>\n",
       "      <td>0.015360</td>\n",
       "      <td>0.036992</td>\n",
       "      <td>0.028106</td>\n",
       "      <td>0.042953</td>\n",
       "      <td>YES</td>\n",
       "    </tr>\n",
       "    <tr>\n",
       "      <th>2</th>\n",
       "      <td>0.31831</td>\n",
       "      <td>0.205796</td>\n",
       "      <td>0.103179</td>\n",
       "      <td>0.049708</td>\n",
       "      <td>0.054705</td>\n",
       "      <td>0.044891</td>\n",
       "      <td>0.070280</td>\n",
       "      <td>0.074378</td>\n",
       "      <td>0.037335</td>\n",
       "      <td>0.019282</td>\n",
       "      <td>...</td>\n",
       "      <td>0.022633</td>\n",
       "      <td>0.018760</td>\n",
       "      <td>0.004913</td>\n",
       "      <td>0.024995</td>\n",
       "      <td>0.021519</td>\n",
       "      <td>0.013097</td>\n",
       "      <td>0.007044</td>\n",
       "      <td>0.020908</td>\n",
       "      <td>0.017026</td>\n",
       "      <td>YES</td>\n",
       "    </tr>\n",
       "    <tr>\n",
       "      <th>3</th>\n",
       "      <td>0.31831</td>\n",
       "      <td>0.007103</td>\n",
       "      <td>0.020262</td>\n",
       "      <td>0.012082</td>\n",
       "      <td>0.008179</td>\n",
       "      <td>0.005637</td>\n",
       "      <td>0.002378</td>\n",
       "      <td>0.012665</td>\n",
       "      <td>0.000409</td>\n",
       "      <td>0.014596</td>\n",
       "      <td>...</td>\n",
       "      <td>0.031325</td>\n",
       "      <td>0.005966</td>\n",
       "      <td>0.020519</td>\n",
       "      <td>0.008573</td>\n",
       "      <td>0.026680</td>\n",
       "      <td>0.033585</td>\n",
       "      <td>0.030941</td>\n",
       "      <td>0.025226</td>\n",
       "      <td>0.033312</td>\n",
       "      <td>NO</td>\n",
       "    </tr>\n",
       "    <tr>\n",
       "      <th>4</th>\n",
       "      <td>0.31831</td>\n",
       "      <td>0.007985</td>\n",
       "      <td>0.010135</td>\n",
       "      <td>0.066751</td>\n",
       "      <td>0.006006</td>\n",
       "      <td>0.026307</td>\n",
       "      <td>0.007570</td>\n",
       "      <td>0.031170</td>\n",
       "      <td>0.010136</td>\n",
       "      <td>0.008487</td>\n",
       "      <td>...</td>\n",
       "      <td>0.013187</td>\n",
       "      <td>0.004725</td>\n",
       "      <td>0.028059</td>\n",
       "      <td>0.012750</td>\n",
       "      <td>0.016639</td>\n",
       "      <td>0.012558</td>\n",
       "      <td>0.022545</td>\n",
       "      <td>0.005240</td>\n",
       "      <td>0.010849</td>\n",
       "      <td>NO</td>\n",
       "    </tr>\n",
       "  </tbody>\n",
       "</table>\n",
       "<p>5 rows × 290 columns</p>\n",
       "</div>"
      ],
      "text/plain": [
       "       0         1         2         3         4         5         6    \\\n",
       "0  0.31831  0.065317  0.070163  0.058755  0.081478  0.015434  0.014855   \n",
       "1  0.31831  0.025486  0.030745  0.037692  0.010174  0.024769  0.034362   \n",
       "2  0.31831  0.205796  0.103179  0.049708  0.054705  0.044891  0.070280   \n",
       "3  0.31831  0.007103  0.020262  0.012082  0.008179  0.005637  0.002378   \n",
       "4  0.31831  0.007985  0.010135  0.066751  0.006006  0.026307  0.007570   \n",
       "\n",
       "        7         8         9    ...       280       281       282       283  \\\n",
       "0  0.077669  0.015013  0.027106  ...  0.007292  0.007305  0.020311  0.001750   \n",
       "1  0.031078  0.034066  0.027778  ...  0.004849  0.024893  0.022014  0.010148   \n",
       "2  0.074378  0.037335  0.019282  ...  0.022633  0.018760  0.004913  0.024995   \n",
       "3  0.012665  0.000409  0.014596  ...  0.031325  0.005966  0.020519  0.008573   \n",
       "4  0.031170  0.010136  0.008487  ...  0.013187  0.004725  0.028059  0.012750   \n",
       "\n",
       "        284       285       286       287       288  289  \n",
       "0  0.007052  0.006972  0.024591  0.010364  0.021926   NO  \n",
       "1  0.036688  0.015360  0.036992  0.028106  0.042953  YES  \n",
       "2  0.021519  0.013097  0.007044  0.020908  0.017026  YES  \n",
       "3  0.026680  0.033585  0.030941  0.025226  0.033312   NO  \n",
       "4  0.016639  0.012558  0.022545  0.005240  0.010849   NO  \n",
       "\n",
       "[5 rows x 290 columns]"
      ]
     },
     "execution_count": 10,
     "metadata": {},
     "output_type": "execute_result"
    }
   ],
   "source": [
    "# After shuffling:\n",
    "df.head()"
   ]
  },
  {
   "cell_type": "code",
   "execution_count": 11,
   "id": "251091d5-ce47-4ef2-aeaa-8ecc324d72de",
   "metadata": {},
   "outputs": [],
   "source": [
    "# Converting categorical values of Target feature into numerical:\n",
    "df[289].replace(['YES','NO'], [1,0], inplace=True)"
   ]
  },
  {
   "cell_type": "code",
   "execution_count": 12,
   "id": "951da750-1119-4a23-b8fe-eb75acda2ec6",
   "metadata": {},
   "outputs": [
    {
     "data": {
      "text/html": [
       "<div>\n",
       "<style scoped>\n",
       "    .dataframe tbody tr th:only-of-type {\n",
       "        vertical-align: middle;\n",
       "    }\n",
       "\n",
       "    .dataframe tbody tr th {\n",
       "        vertical-align: top;\n",
       "    }\n",
       "\n",
       "    .dataframe thead th {\n",
       "        text-align: right;\n",
       "    }\n",
       "</style>\n",
       "<table border=\"1\" class=\"dataframe\">\n",
       "  <thead>\n",
       "    <tr style=\"text-align: right;\">\n",
       "      <th></th>\n",
       "      <th>0</th>\n",
       "      <th>1</th>\n",
       "      <th>2</th>\n",
       "      <th>3</th>\n",
       "      <th>4</th>\n",
       "      <th>5</th>\n",
       "      <th>6</th>\n",
       "      <th>7</th>\n",
       "      <th>8</th>\n",
       "      <th>9</th>\n",
       "      <th>...</th>\n",
       "      <th>280</th>\n",
       "      <th>281</th>\n",
       "      <th>282</th>\n",
       "      <th>283</th>\n",
       "      <th>284</th>\n",
       "      <th>285</th>\n",
       "      <th>286</th>\n",
       "      <th>287</th>\n",
       "      <th>288</th>\n",
       "      <th>289</th>\n",
       "    </tr>\n",
       "  </thead>\n",
       "  <tbody>\n",
       "    <tr>\n",
       "      <th>0</th>\n",
       "      <td>0.31831</td>\n",
       "      <td>0.065317</td>\n",
       "      <td>0.070163</td>\n",
       "      <td>0.058755</td>\n",
       "      <td>0.081478</td>\n",
       "      <td>0.015434</td>\n",
       "      <td>0.014855</td>\n",
       "      <td>0.077669</td>\n",
       "      <td>0.015013</td>\n",
       "      <td>0.027106</td>\n",
       "      <td>...</td>\n",
       "      <td>0.007292</td>\n",
       "      <td>0.007305</td>\n",
       "      <td>0.020311</td>\n",
       "      <td>0.001750</td>\n",
       "      <td>0.007052</td>\n",
       "      <td>0.006972</td>\n",
       "      <td>0.024591</td>\n",
       "      <td>0.010364</td>\n",
       "      <td>0.021926</td>\n",
       "      <td>0</td>\n",
       "    </tr>\n",
       "    <tr>\n",
       "      <th>1</th>\n",
       "      <td>0.31831</td>\n",
       "      <td>0.025486</td>\n",
       "      <td>0.030745</td>\n",
       "      <td>0.037692</td>\n",
       "      <td>0.010174</td>\n",
       "      <td>0.024769</td>\n",
       "      <td>0.034362</td>\n",
       "      <td>0.031078</td>\n",
       "      <td>0.034066</td>\n",
       "      <td>0.027778</td>\n",
       "      <td>...</td>\n",
       "      <td>0.004849</td>\n",
       "      <td>0.024893</td>\n",
       "      <td>0.022014</td>\n",
       "      <td>0.010148</td>\n",
       "      <td>0.036688</td>\n",
       "      <td>0.015360</td>\n",
       "      <td>0.036992</td>\n",
       "      <td>0.028106</td>\n",
       "      <td>0.042953</td>\n",
       "      <td>1</td>\n",
       "    </tr>\n",
       "    <tr>\n",
       "      <th>2</th>\n",
       "      <td>0.31831</td>\n",
       "      <td>0.205796</td>\n",
       "      <td>0.103179</td>\n",
       "      <td>0.049708</td>\n",
       "      <td>0.054705</td>\n",
       "      <td>0.044891</td>\n",
       "      <td>0.070280</td>\n",
       "      <td>0.074378</td>\n",
       "      <td>0.037335</td>\n",
       "      <td>0.019282</td>\n",
       "      <td>...</td>\n",
       "      <td>0.022633</td>\n",
       "      <td>0.018760</td>\n",
       "      <td>0.004913</td>\n",
       "      <td>0.024995</td>\n",
       "      <td>0.021519</td>\n",
       "      <td>0.013097</td>\n",
       "      <td>0.007044</td>\n",
       "      <td>0.020908</td>\n",
       "      <td>0.017026</td>\n",
       "      <td>1</td>\n",
       "    </tr>\n",
       "    <tr>\n",
       "      <th>3</th>\n",
       "      <td>0.31831</td>\n",
       "      <td>0.007103</td>\n",
       "      <td>0.020262</td>\n",
       "      <td>0.012082</td>\n",
       "      <td>0.008179</td>\n",
       "      <td>0.005637</td>\n",
       "      <td>0.002378</td>\n",
       "      <td>0.012665</td>\n",
       "      <td>0.000409</td>\n",
       "      <td>0.014596</td>\n",
       "      <td>...</td>\n",
       "      <td>0.031325</td>\n",
       "      <td>0.005966</td>\n",
       "      <td>0.020519</td>\n",
       "      <td>0.008573</td>\n",
       "      <td>0.026680</td>\n",
       "      <td>0.033585</td>\n",
       "      <td>0.030941</td>\n",
       "      <td>0.025226</td>\n",
       "      <td>0.033312</td>\n",
       "      <td>0</td>\n",
       "    </tr>\n",
       "    <tr>\n",
       "      <th>4</th>\n",
       "      <td>0.31831</td>\n",
       "      <td>0.007985</td>\n",
       "      <td>0.010135</td>\n",
       "      <td>0.066751</td>\n",
       "      <td>0.006006</td>\n",
       "      <td>0.026307</td>\n",
       "      <td>0.007570</td>\n",
       "      <td>0.031170</td>\n",
       "      <td>0.010136</td>\n",
       "      <td>0.008487</td>\n",
       "      <td>...</td>\n",
       "      <td>0.013187</td>\n",
       "      <td>0.004725</td>\n",
       "      <td>0.028059</td>\n",
       "      <td>0.012750</td>\n",
       "      <td>0.016639</td>\n",
       "      <td>0.012558</td>\n",
       "      <td>0.022545</td>\n",
       "      <td>0.005240</td>\n",
       "      <td>0.010849</td>\n",
       "      <td>0</td>\n",
       "    </tr>\n",
       "  </tbody>\n",
       "</table>\n",
       "<p>5 rows × 290 columns</p>\n",
       "</div>"
      ],
      "text/plain": [
       "       0         1         2         3         4         5         6    \\\n",
       "0  0.31831  0.065317  0.070163  0.058755  0.081478  0.015434  0.014855   \n",
       "1  0.31831  0.025486  0.030745  0.037692  0.010174  0.024769  0.034362   \n",
       "2  0.31831  0.205796  0.103179  0.049708  0.054705  0.044891  0.070280   \n",
       "3  0.31831  0.007103  0.020262  0.012082  0.008179  0.005637  0.002378   \n",
       "4  0.31831  0.007985  0.010135  0.066751  0.006006  0.026307  0.007570   \n",
       "\n",
       "        7         8         9    ...       280       281       282       283  \\\n",
       "0  0.077669  0.015013  0.027106  ...  0.007292  0.007305  0.020311  0.001750   \n",
       "1  0.031078  0.034066  0.027778  ...  0.004849  0.024893  0.022014  0.010148   \n",
       "2  0.074378  0.037335  0.019282  ...  0.022633  0.018760  0.004913  0.024995   \n",
       "3  0.012665  0.000409  0.014596  ...  0.031325  0.005966  0.020519  0.008573   \n",
       "4  0.031170  0.010136  0.008487  ...  0.013187  0.004725  0.028059  0.012750   \n",
       "\n",
       "        284       285       286       287       288  289  \n",
       "0  0.007052  0.006972  0.024591  0.010364  0.021926    0  \n",
       "1  0.036688  0.015360  0.036992  0.028106  0.042953    1  \n",
       "2  0.021519  0.013097  0.007044  0.020908  0.017026    1  \n",
       "3  0.026680  0.033585  0.030941  0.025226  0.033312    0  \n",
       "4  0.016639  0.012558  0.022545  0.005240  0.010849    0  \n",
       "\n",
       "[5 rows x 290 columns]"
      ]
     },
     "execution_count": 12,
     "metadata": {},
     "output_type": "execute_result"
    }
   ],
   "source": [
    "# After Converting Target feature to numerical:\n",
    "df.head()"
   ]
  },
  {
   "cell_type": "code",
   "execution_count": 13,
   "id": "e22a3f3a-526e-4db2-988d-2f665d9ae5b9",
   "metadata": {},
   "outputs": [],
   "source": [
    "# Splitting into Independent and Dependent features:\n",
    "X = df.iloc[:, :-1]\n",
    "y = df.iloc[:, -1]"
   ]
  },
  {
   "cell_type": "code",
   "execution_count": 14,
   "id": "b1b0ed54-674f-43b2-9986-84b49700a562",
   "metadata": {},
   "outputs": [],
   "source": [
    "# Train-Test spilt:\n",
    "x_train, x_test, y_train, y_test = train_test_split(X, y, test_size=0.2, random_state=0) "
   ]
  },
  {
   "cell_type": "code",
   "execution_count": 15,
   "id": "c013fdde-517b-4030-a5ef-05f11150803c",
   "metadata": {},
   "outputs": [
    {
     "name": "stdout",
     "output_type": "stream",
     "text": [
      "(2207, 289)\n",
      "(552, 289)\n"
     ]
    }
   ],
   "source": [
    "# Printing the shape after train-test split:\n",
    "print(x_train.shape)\n",
    "print(x_test.shape)"
   ]
  },
  {
   "cell_type": "code",
   "execution_count": 16,
   "id": "03d79d31-49f6-4eca-9657-c829474cfcbd",
   "metadata": {},
   "outputs": [
    {
     "name": "stdout",
     "output_type": "stream",
     "text": [
      "Distributions:\n",
      "\n",
      "Train Set\n",
      "1    1309\n",
      "0     898\n",
      "Name: 289, dtype: int64\n",
      "\n",
      "Test Set\n",
      "1    345\n",
      "0    207\n",
      "Name: 289, dtype: int64\n",
      "\n",
      "In Percentage:\n",
      "\n",
      "Train Set\n",
      "1    59.311282\n",
      "0    40.688718\n",
      "Name: 289, dtype: float64\n",
      "\n",
      "Test Set\n",
      "1    62.5\n",
      "0    37.5\n",
      "Name: 289, dtype: float64\n"
     ]
    }
   ],
   "source": [
    "# Train-Test data distribution\n",
    "print(\"Distributions:\")\n",
    "print(\"\\nTrain Set\")\n",
    "print(y_train.value_counts())\n",
    "print(\"\\nTest Set\")\n",
    "print(y_test.value_counts())\n",
    "\n",
    "print(\"\\nIn Percentage:\")\n",
    "print(\"\\nTrain Set\")\n",
    "print((y_train.value_counts()/ len(y_train))*100)\n",
    "print(\"\\nTest Set\")\n",
    "print((y_test.value_counts()/ len(y_test))*100)"
   ]
  },
  {
   "cell_type": "markdown",
   "id": "445107c8-201a-4abb-ae4d-97d4dcac350a",
   "metadata": {},
   "source": [
    "### Build classification models using Random Forest Classifier, Gradient Boosting Classifier, XGBoost classifier and Support Vector Machine."
   ]
  },
  {
   "cell_type": "markdown",
   "id": "fa20b83e-d96e-460b-8d02-84f613875b7b",
   "metadata": {},
   "source": [
    "### Using Random Forest Classifier:"
   ]
  },
  {
   "cell_type": "code",
   "execution_count": 17,
   "id": "02ff3f9e-608e-45f4-a8f9-cce8b2c2d643",
   "metadata": {},
   "outputs": [],
   "source": [
    "# Creating an Object of XGBoost Classifier:\n",
    "rf = RandomForestClassifier()"
   ]
  },
  {
   "cell_type": "code",
   "execution_count": 18,
   "id": "527ad36f-f2ed-4184-a6b3-20c8305df59c",
   "metadata": {},
   "outputs": [],
   "source": [
    "# Using k-fold cross validation for 5 - folds:\n",
    "y_train_rf_K = cross_val_predict(rf, x_train, y_train, cv=5)"
   ]
  },
  {
   "cell_type": "code",
   "execution_count": 19,
   "id": "34319cd6-e481-4cae-93df-4a4027209ee5",
   "metadata": {
    "scrolled": true
   },
   "outputs": [
    {
     "name": "stdout",
     "output_type": "stream",
     "text": [
      "Accuracy  : 94.0 %\n",
      "Precision : 0.93\n",
      "Recall    : 0.98\n",
      "F1_Score  : 0.95\n",
      "\n",
      "Confusion Matrix :\n",
      "[[ 798  100]\n",
      " [  27 1282]]\n"
     ]
    }
   ],
   "source": [
    "# For K-fold cross Validation\n",
    "print(\"Accuracy  :\", round(accuracy_score(y_train, y_train_rf_K),2)*100,\"%\")\n",
    "print(\"Precision :\", round(precision_score(y_train, y_train_rf_K),2))\n",
    "print(\"Recall    :\", round(recall_score(y_train, y_train_rf_K),2))\n",
    "print(\"F1_Score  :\", round(f1_score(y_train, y_train_rf_K),2))\n",
    "print(\"\\nConfusion Matrix :\")\n",
    "print(confusion_matrix(y_train, y_train_rf_K))"
   ]
  },
  {
   "cell_type": "code",
   "execution_count": 20,
   "id": "63d1e95c-1861-400e-bf32-c089b08402de",
   "metadata": {},
   "outputs": [
    {
     "data": {
      "text/plain": [
       "RandomForestClassifier()"
      ]
     },
     "execution_count": 20,
     "metadata": {},
     "output_type": "execute_result"
    }
   ],
   "source": [
    "# Fitting the Training data:\n",
    "rf.fit(x_train, y_train)"
   ]
  },
  {
   "cell_type": "code",
   "execution_count": 21,
   "id": "0d775486-8a81-458d-8335-3f17e96f8810",
   "metadata": {},
   "outputs": [],
   "source": [
    "# Predicting the test data:\n",
    "y_pred_rf = rf.predict(x_test)"
   ]
  },
  {
   "cell_type": "code",
   "execution_count": 22,
   "id": "af7080a4-1c12-4ff0-8ade-396b50acfe8d",
   "metadata": {},
   "outputs": [
    {
     "name": "stdout",
     "output_type": "stream",
     "text": [
      "Accuracy  : 95.0 %\n",
      "Precision : 0.95\n",
      "Recall    : 0.98\n",
      "f1_Score  : 0.96\n",
      "\n",
      "Confusion Matrix :\n",
      "[[190  17]\n",
      " [  8 337]]\n"
     ]
    }
   ],
   "source": [
    "# For Random Forest\n",
    "print(\"Accuracy  :\", round(accuracy_score(y_test, y_pred_rf), 2)*100,\"%\")\n",
    "print(\"Precision :\", round(precision_score(y_test, y_pred_rf), 2))\n",
    "print(\"Recall    :\", round(recall_score(y_test, y_pred_rf), 2))\n",
    "print(\"f1_Score  :\", round(f1_score(y_test, y_pred_rf), 2))\n",
    "print(\"\\nConfusion Matrix :\")\n",
    "print(confusion_matrix(y_test, y_pred_rf))"
   ]
  },
  {
   "cell_type": "markdown",
   "id": "11d3801d-af16-4bd8-bc26-5df96c8b54f2",
   "metadata": {},
   "source": [
    "### Using Gradient Boosting Classifier:"
   ]
  },
  {
   "cell_type": "code",
   "execution_count": 23,
   "id": "f13b2f97-8464-4db1-97c2-dd6e813a4ab4",
   "metadata": {},
   "outputs": [],
   "source": [
    "# Creating an Object of GradientBoostingClassifier:\n",
    "gbm = GradientBoostingClassifier()"
   ]
  },
  {
   "cell_type": "code",
   "execution_count": 24,
   "id": "d50816c5-da88-4946-90bb-6b9570e03237",
   "metadata": {},
   "outputs": [],
   "source": [
    "# k-fold cross validation for 5 - folds:\n",
    "y_train_gbm_K = cross_val_predict(gbm, x_train, y_train, cv=5)"
   ]
  },
  {
   "cell_type": "code",
   "execution_count": 25,
   "id": "96efbf13-4fa1-416e-a4f5-d442dabbb7b9",
   "metadata": {},
   "outputs": [
    {
     "name": "stdout",
     "output_type": "stream",
     "text": [
      "Accuracy  : 95.0 %\n",
      "Precision : 0.94\n",
      "Recall    : 0.97\n",
      "f1_Score  : 0.96\n",
      "\n",
      "Confusion Matrix :\n",
      "[[ 821   77]\n",
      " [  36 1273]]\n"
     ]
    }
   ],
   "source": [
    "# For K-fold cross Validation:\n",
    "print(\"Accuracy  :\", round(accuracy_score(y_train, y_train_gbm_K), 2)*100,\"%\")\n",
    "print(\"Precision :\", round(precision_score(y_train, y_train_gbm_K), 2))\n",
    "print(\"Recall    :\", round(recall_score(y_train, y_train_gbm_K), 2))\n",
    "print(\"f1_Score  :\", round(f1_score(y_train, y_train_gbm_K), 2))\n",
    "print(\"\\nConfusion Matrix :\")\n",
    "print(confusion_matrix(y_train, y_train_gbm_K))"
   ]
  },
  {
   "cell_type": "code",
   "execution_count": 26,
   "id": "60621d58-673c-4e4a-8690-92875f175a0e",
   "metadata": {},
   "outputs": [
    {
     "data": {
      "text/plain": [
       "GradientBoostingClassifier()"
      ]
     },
     "execution_count": 26,
     "metadata": {},
     "output_type": "execute_result"
    }
   ],
   "source": [
    "# Fitting the Training data:\n",
    "gbm.fit(x_train, y_train)"
   ]
  },
  {
   "cell_type": "code",
   "execution_count": 27,
   "id": "0bd526b7-fa42-4fa5-9721-d0734b60b647",
   "metadata": {
    "tags": []
   },
   "outputs": [],
   "source": [
    "# Predicting the test data:\n",
    "y_pred_gbm = gbm.predict(x_test)"
   ]
  },
  {
   "cell_type": "code",
   "execution_count": 28,
   "id": "451bff8f-2a31-48ac-84bd-eddb1c38be10",
   "metadata": {},
   "outputs": [
    {
     "name": "stdout",
     "output_type": "stream",
     "text": [
      "Accuracy  : 94.0 %\n",
      "Precision : 0.95\n",
      "Recall    : 0.96\n",
      "f1_Score  : 0.96\n",
      "\n",
      "Confusion Matrix :\n",
      "[[190  17]\n",
      " [ 14 331]]\n"
     ]
    }
   ],
   "source": [
    "# For Gradient Boosting:\n",
    "print(\"Accuracy  :\", round(accuracy_score(y_test, y_pred_gbm), 2)*100,\"%\")\n",
    "print(\"Precision :\", round(precision_score(y_test, y_pred_gbm), 2))\n",
    "print(\"Recall    :\", round(recall_score(y_test, y_pred_gbm), 2))\n",
    "print(\"f1_Score  :\", round(f1_score(y_test, y_pred_gbm), 2))\n",
    "print(\"\\nConfusion Matrix :\")\n",
    "print(confusion_matrix(y_test, y_pred_gbm))"
   ]
  },
  {
   "cell_type": "markdown",
   "id": "ba665079-5b1d-4b78-80c4-c3f7aa12b3d6",
   "metadata": {},
   "source": [
    "### Using XGBoost Classifier:"
   ]
  },
  {
   "cell_type": "code",
   "execution_count": 29,
   "id": "195c5081-1207-459c-97f3-2397d9b7b908",
   "metadata": {},
   "outputs": [],
   "source": [
    "# Creating an Object of XGBoost Classifier:\n",
    "xgb = XGBClassifier()"
   ]
  },
  {
   "cell_type": "code",
   "execution_count": 31,
   "id": "208bca63-f43e-4ee3-9829-b31fe314e503",
   "metadata": {},
   "outputs": [
    {
     "name": "stderr",
     "output_type": "stream",
     "text": [
      "C:\\Users\\LENOVO\\Anaconda3\\envs\\myenv\\lib\\site-packages\\xgboost\\sklearn.py:1224: UserWarning: The use of label encoder in XGBClassifier is deprecated and will be removed in a future release. To remove this warning, do the following: 1) Pass option use_label_encoder=False when constructing XGBClassifier object; and 2) Encode your labels (y) as integers starting with 0, i.e. 0, 1, 2, ..., [num_class - 1].\n",
      "  warnings.warn(label_encoder_deprecation_msg, UserWarning)\n",
      "C:\\Users\\LENOVO\\Anaconda3\\envs\\myenv\\lib\\site-packages\\xgboost\\data.py:250: FutureWarning: pandas.Int64Index is deprecated and will be removed from pandas in a future version. Use pandas.Index with the appropriate dtype instead.\n",
      "  elif isinstance(data.columns, (pd.Int64Index, pd.RangeIndex)):\n"
     ]
    },
    {
     "name": "stdout",
     "output_type": "stream",
     "text": [
      "[10:11:45] WARNING: ..\\src\\learner.cc:1115: Starting in XGBoost 1.3.0, the default evaluation metric used with the objective 'binary:logistic' was changed from 'error' to 'logloss'. Explicitly set eval_metric if you'd like to restore the old behavior.\n"
     ]
    },
    {
     "name": "stderr",
     "output_type": "stream",
     "text": [
      "C:\\Users\\LENOVO\\Anaconda3\\envs\\myenv\\lib\\site-packages\\xgboost\\sklearn.py:1224: UserWarning: The use of label encoder in XGBClassifier is deprecated and will be removed in a future release. To remove this warning, do the following: 1) Pass option use_label_encoder=False when constructing XGBClassifier object; and 2) Encode your labels (y) as integers starting with 0, i.e. 0, 1, 2, ..., [num_class - 1].\n",
      "  warnings.warn(label_encoder_deprecation_msg, UserWarning)\n",
      "C:\\Users\\LENOVO\\Anaconda3\\envs\\myenv\\lib\\site-packages\\xgboost\\data.py:250: FutureWarning: pandas.Int64Index is deprecated and will be removed from pandas in a future version. Use pandas.Index with the appropriate dtype instead.\n",
      "  elif isinstance(data.columns, (pd.Int64Index, pd.RangeIndex)):\n"
     ]
    },
    {
     "name": "stdout",
     "output_type": "stream",
     "text": [
      "[10:11:48] WARNING: ..\\src\\learner.cc:1115: Starting in XGBoost 1.3.0, the default evaluation metric used with the objective 'binary:logistic' was changed from 'error' to 'logloss'. Explicitly set eval_metric if you'd like to restore the old behavior.\n"
     ]
    },
    {
     "name": "stderr",
     "output_type": "stream",
     "text": [
      "C:\\Users\\LENOVO\\Anaconda3\\envs\\myenv\\lib\\site-packages\\xgboost\\sklearn.py:1224: UserWarning: The use of label encoder in XGBClassifier is deprecated and will be removed in a future release. To remove this warning, do the following: 1) Pass option use_label_encoder=False when constructing XGBClassifier object; and 2) Encode your labels (y) as integers starting with 0, i.e. 0, 1, 2, ..., [num_class - 1].\n",
      "  warnings.warn(label_encoder_deprecation_msg, UserWarning)\n",
      "C:\\Users\\LENOVO\\Anaconda3\\envs\\myenv\\lib\\site-packages\\xgboost\\data.py:250: FutureWarning: pandas.Int64Index is deprecated and will be removed from pandas in a future version. Use pandas.Index with the appropriate dtype instead.\n",
      "  elif isinstance(data.columns, (pd.Int64Index, pd.RangeIndex)):\n"
     ]
    },
    {
     "name": "stdout",
     "output_type": "stream",
     "text": [
      "[10:11:50] WARNING: ..\\src\\learner.cc:1115: Starting in XGBoost 1.3.0, the default evaluation metric used with the objective 'binary:logistic' was changed from 'error' to 'logloss'. Explicitly set eval_metric if you'd like to restore the old behavior.\n"
     ]
    },
    {
     "name": "stderr",
     "output_type": "stream",
     "text": [
      "C:\\Users\\LENOVO\\Anaconda3\\envs\\myenv\\lib\\site-packages\\xgboost\\sklearn.py:1224: UserWarning: The use of label encoder in XGBClassifier is deprecated and will be removed in a future release. To remove this warning, do the following: 1) Pass option use_label_encoder=False when constructing XGBClassifier object; and 2) Encode your labels (y) as integers starting with 0, i.e. 0, 1, 2, ..., [num_class - 1].\n",
      "  warnings.warn(label_encoder_deprecation_msg, UserWarning)\n",
      "C:\\Users\\LENOVO\\Anaconda3\\envs\\myenv\\lib\\site-packages\\xgboost\\data.py:250: FutureWarning: pandas.Int64Index is deprecated and will be removed from pandas in a future version. Use pandas.Index with the appropriate dtype instead.\n",
      "  elif isinstance(data.columns, (pd.Int64Index, pd.RangeIndex)):\n"
     ]
    },
    {
     "name": "stdout",
     "output_type": "stream",
     "text": [
      "[10:11:53] WARNING: ..\\src\\learner.cc:1115: Starting in XGBoost 1.3.0, the default evaluation metric used with the objective 'binary:logistic' was changed from 'error' to 'logloss'. Explicitly set eval_metric if you'd like to restore the old behavior.\n"
     ]
    },
    {
     "name": "stderr",
     "output_type": "stream",
     "text": [
      "C:\\Users\\LENOVO\\Anaconda3\\envs\\myenv\\lib\\site-packages\\xgboost\\sklearn.py:1224: UserWarning: The use of label encoder in XGBClassifier is deprecated and will be removed in a future release. To remove this warning, do the following: 1) Pass option use_label_encoder=False when constructing XGBClassifier object; and 2) Encode your labels (y) as integers starting with 0, i.e. 0, 1, 2, ..., [num_class - 1].\n",
      "  warnings.warn(label_encoder_deprecation_msg, UserWarning)\n",
      "C:\\Users\\LENOVO\\Anaconda3\\envs\\myenv\\lib\\site-packages\\xgboost\\data.py:250: FutureWarning: pandas.Int64Index is deprecated and will be removed from pandas in a future version. Use pandas.Index with the appropriate dtype instead.\n",
      "  elif isinstance(data.columns, (pd.Int64Index, pd.RangeIndex)):\n"
     ]
    },
    {
     "name": "stdout",
     "output_type": "stream",
     "text": [
      "[10:11:56] WARNING: ..\\src\\learner.cc:1115: Starting in XGBoost 1.3.0, the default evaluation metric used with the objective 'binary:logistic' was changed from 'error' to 'logloss'. Explicitly set eval_metric if you'd like to restore the old behavior.\n"
     ]
    }
   ],
   "source": [
    "# k-fold cross validation for 5 - folds:\n",
    "y_train_xgb_K = cross_val_predict(xgb, x_train, y_train, cv=5)"
   ]
  },
  {
   "cell_type": "code",
   "execution_count": 32,
   "id": "e505c718-fd81-4c5f-86b2-5bcc6020c96d",
   "metadata": {},
   "outputs": [
    {
     "name": "stdout",
     "output_type": "stream",
     "text": [
      "Accuracy  : 96.0 %\n",
      "Precision : 0.96\n",
      "Recall    : 0.98\n",
      "f1_Score  : 0.97\n",
      "\n",
      "Confusion Matrix :\n",
      "[[ 849   49]\n",
      " [  30 1279]]\n"
     ]
    }
   ],
   "source": [
    "# For K-fold cross Validation\n",
    "print(\"Accuracy  :\", round(accuracy_score(y_train, y_train_xgb_K), 2)*100,\"%\")\n",
    "print(\"Precision :\", round(precision_score(y_train, y_train_xgb_K), 2))\n",
    "print(\"Recall    :\", round(recall_score(y_train, y_train_xgb_K), 2))\n",
    "print(\"f1_Score  :\", round(f1_score(y_train, y_train_xgb_K), 2))\n",
    "print(\"\\nConfusion Matrix :\")\n",
    "print(confusion_matrix(y_train, y_train_xgb_K))"
   ]
  },
  {
   "cell_type": "code",
   "execution_count": 33,
   "id": "579cb718-978e-40f4-a990-7eebb2f90f58",
   "metadata": {
    "tags": []
   },
   "outputs": [
    {
     "name": "stderr",
     "output_type": "stream",
     "text": [
      "C:\\Users\\LENOVO\\Anaconda3\\envs\\myenv\\lib\\site-packages\\xgboost\\sklearn.py:1224: UserWarning: The use of label encoder in XGBClassifier is deprecated and will be removed in a future release. To remove this warning, do the following: 1) Pass option use_label_encoder=False when constructing XGBClassifier object; and 2) Encode your labels (y) as integers starting with 0, i.e. 0, 1, 2, ..., [num_class - 1].\n",
      "  warnings.warn(label_encoder_deprecation_msg, UserWarning)\n",
      "C:\\Users\\LENOVO\\Anaconda3\\envs\\myenv\\lib\\site-packages\\xgboost\\data.py:250: FutureWarning: pandas.Int64Index is deprecated and will be removed from pandas in a future version. Use pandas.Index with the appropriate dtype instead.\n",
      "  elif isinstance(data.columns, (pd.Int64Index, pd.RangeIndex)):\n"
     ]
    },
    {
     "name": "stdout",
     "output_type": "stream",
     "text": [
      "[10:11:59] WARNING: ..\\src\\learner.cc:1115: Starting in XGBoost 1.3.0, the default evaluation metric used with the objective 'binary:logistic' was changed from 'error' to 'logloss'. Explicitly set eval_metric if you'd like to restore the old behavior.\n"
     ]
    },
    {
     "data": {
      "text/plain": [
       "XGBClassifier(base_score=0.5, booster='gbtree', colsample_bylevel=1,\n",
       "              colsample_bynode=1, colsample_bytree=1, enable_categorical=False,\n",
       "              gamma=0, gpu_id=-1, importance_type=None,\n",
       "              interaction_constraints='', learning_rate=0.300000012,\n",
       "              max_delta_step=0, max_depth=6, min_child_weight=1, missing=nan,\n",
       "              monotone_constraints='()', n_estimators=100, n_jobs=8,\n",
       "              num_parallel_tree=1, predictor='auto', random_state=0,\n",
       "              reg_alpha=0, reg_lambda=1, scale_pos_weight=1, subsample=1,\n",
       "              tree_method='exact', validate_parameters=1, verbosity=None)"
      ]
     },
     "execution_count": 33,
     "metadata": {},
     "output_type": "execute_result"
    }
   ],
   "source": [
    "# Fitting the Training data:\n",
    "xgb.fit(x_train, y_train)"
   ]
  },
  {
   "cell_type": "code",
   "execution_count": 34,
   "id": "b095ef56-e76c-4927-acb3-30921933e364",
   "metadata": {},
   "outputs": [],
   "source": [
    "# Predicting the test data:\n",
    "y_pred_xgb = xgb.predict(x_test)"
   ]
  },
  {
   "cell_type": "code",
   "execution_count": 35,
   "id": "04a4c421-10fe-4551-9b82-f96ded800de1",
   "metadata": {},
   "outputs": [
    {
     "name": "stdout",
     "output_type": "stream",
     "text": [
      "Accuracy  : 96.0 %\n",
      "Precision : 0.97\n",
      "Recall    : 0.97\n",
      "f1_Score  : 0.97\n",
      "\n",
      "Confusion Matrix :\n",
      "[[195  12]\n",
      " [ 12 333]]\n"
     ]
    }
   ],
   "source": [
    "# For XGBoost Classifier:\n",
    "print(\"Accuracy  :\", round(accuracy_score(y_test, y_pred_xgb), 2)*100,\"%\")\n",
    "print(\"Precision :\", round(precision_score(y_test, y_pred_xgb), 2))\n",
    "print(\"Recall    :\", round(recall_score(y_test, y_pred_xgb), 2))\n",
    "print(\"f1_Score  :\", round(f1_score(y_test, y_pred_xgb), 2))\n",
    "print(\"\\nConfusion Matrix :\")\n",
    "print(confusion_matrix(y_test, y_pred_xgb))"
   ]
  },
  {
   "cell_type": "markdown",
   "id": "01ffba58-b0f0-440d-87df-4d57eae4b959",
   "metadata": {},
   "source": [
    "### Using Support Vector Machine:"
   ]
  },
  {
   "cell_type": "code",
   "execution_count": 36,
   "id": "bea208c3-a808-429c-b8b3-0fca053d6d73",
   "metadata": {},
   "outputs": [],
   "source": [
    "# Creating an Object of Support Vector Machine:\n",
    "svm = SVC()"
   ]
  },
  {
   "cell_type": "code",
   "execution_count": 37,
   "id": "4f894880-f03c-436a-96a1-275ea010e86e",
   "metadata": {},
   "outputs": [],
   "source": [
    "# k-fold cross validation for 5 - folds:\n",
    "y_train_svm_K = cross_val_predict(svm, x_train, y_train, cv=5)"
   ]
  },
  {
   "cell_type": "code",
   "execution_count": 38,
   "id": "e955ce08-3215-4f86-b9e9-acaacc964bfe",
   "metadata": {},
   "outputs": [
    {
     "name": "stdout",
     "output_type": "stream",
     "text": [
      "Accuracy  : 87.0 %\n",
      "Precision : 0.85\n",
      "Recall    : 0.96\n",
      "f1_Score  : 0.9\n",
      "\n",
      "Confusion Matrix :\n",
      "[[ 670  228]\n",
      " [  49 1260]]\n"
     ]
    }
   ],
   "source": [
    "# For K-fold cross Validation:\n",
    "print(\"Accuracy  :\", round(accuracy_score(y_train, y_train_svm_K), 2)*100,\"%\")\n",
    "print(\"Precision :\", round(precision_score(y_train, y_train_svm_K), 2))\n",
    "print(\"Recall    :\", round(recall_score(y_train, y_train_svm_K), 2))\n",
    "print(\"f1_Score  :\", round(f1_score(y_train, y_train_svm_K), 2))\n",
    "print(\"\\nConfusion Matrix :\")\n",
    "print(confusion_matrix(y_train, y_train_svm_K))"
   ]
  },
  {
   "cell_type": "code",
   "execution_count": 39,
   "id": "2bc541fa-8eb7-4766-8692-3faec03230d7",
   "metadata": {},
   "outputs": [
    {
     "data": {
      "text/plain": [
       "SVC()"
      ]
     },
     "execution_count": 39,
     "metadata": {},
     "output_type": "execute_result"
    }
   ],
   "source": [
    "# Fitting the Training data:\n",
    "svm.fit(x_train, y_train)"
   ]
  },
  {
   "cell_type": "code",
   "execution_count": 40,
   "id": "6ead7284-ff9e-4877-a4b1-eb73094c5c36",
   "metadata": {},
   "outputs": [],
   "source": [
    "# Predicting the test data:\n",
    "y_pred_svm = svm.predict(x_test)"
   ]
  },
  {
   "cell_type": "code",
   "execution_count": 41,
   "id": "200f9b5c-e2f1-4f57-8623-5b5578ab7c96",
   "metadata": {},
   "outputs": [
    {
     "name": "stdout",
     "output_type": "stream",
     "text": [
      "Accuracy : 87.0 %\n",
      "Precision : 0.85\n",
      "Recall : 0.96\n",
      "f1_Score : 0.9\n",
      "\n",
      "Confusion Matrix :\n",
      "[[151  56]\n",
      " [ 15 330]]\n"
     ]
    }
   ],
   "source": [
    "# For SVM:\n",
    "print(\"Accuracy :\", round(accuracy_score(y_test, y_pred_svm), 2)*100,\"%\")\n",
    "print(\"Precision :\", round(precision_score(y_test, y_pred_svm), 2))\n",
    "print(\"Recall :\", round(recall_score(y_test, y_pred_svm), 2))\n",
    "print(\"f1_Score :\", round(f1_score(y_test, y_pred_svm), 2))\n",
    "print(\"\\nConfusion Matrix :\")\n",
    "print(confusion_matrix(y_test, y_pred_svm))"
   ]
  },
  {
   "cell_type": "markdown",
   "id": "eee6fdf8-cde3-490f-b603-6f35b7d1751e",
   "metadata": {},
   "source": [
    "### Conclusion, Comparing the performance of all the models (Random Forest, GBM, XGBOOST and SVM)"
   ]
  },
  {
   "cell_type": "markdown",
   "id": "0a0d2061-bf3e-40eb-b258-2ce9d3abe4a0",
   "metadata": {},
   "source": [
    "- Accuracy of Random Forest : **95%**\n",
    "- Accuracy of GBM   : **94%**\n",
    "- Accuracy of XGBoost   : **96%**\n",
    "- Accuracy of SVM   : **87%**"
   ]
  },
  {
   "cell_type": "markdown",
   "id": "eadbea79-a1f4-4996-a726-6715f2b93b14",
   "metadata": {},
   "source": [
    "- Precision of Random Forest : **0.95**\n",
    "- Precision of GBM   : **0.95**\n",
    "- Precision of XGBoost   : **0.97**\n",
    "- Precision of SVM   : **0.85**"
   ]
  },
  {
   "cell_type": "markdown",
   "id": "d866904a-12d0-4520-bc35-0d22e11a2e2b",
   "metadata": {},
   "source": [
    "- Recall of Random Forest : **0.98**\n",
    "- Recall of GBM   : **0.96**\n",
    "- Recall of XGBoost   : **0.97**\n",
    "- Recall of SVM   : **0.96**"
   ]
  },
  {
   "cell_type": "markdown",
   "id": "260f6b51-0ce5-4ef4-84ec-31ab7ba9c0ae",
   "metadata": {},
   "source": [
    "- F1-Score of Random Forest : **0.96**\n",
    "- F1-Score of GBM   : **0.96**\n",
    "- F1-Score of XGBoost   : **0.97**\n",
    "- F1-Score of SVM   : **0.90**"
   ]
  },
  {
   "cell_type": "code",
   "execution_count": null,
   "id": "2dbade9d-7fa2-413c-903b-189dedab2d81",
   "metadata": {
    "jupyter": {
     "source_hidden": true
    },
    "tags": []
   },
   "outputs": [],
   "source": []
  }
 ],
 "metadata": {
  "kernelspec": {
   "display_name": "Python 3 (ipykernel)",
   "language": "python",
   "name": "python3"
  },
  "language_info": {
   "codemirror_mode": {
    "name": "ipython",
    "version": 3
   },
   "file_extension": ".py",
   "mimetype": "text/x-python",
   "name": "python",
   "nbconvert_exporter": "python",
   "pygments_lexer": "ipython3",
   "version": "3.9.12"
  }
 },
 "nbformat": 4,
 "nbformat_minor": 5
}
